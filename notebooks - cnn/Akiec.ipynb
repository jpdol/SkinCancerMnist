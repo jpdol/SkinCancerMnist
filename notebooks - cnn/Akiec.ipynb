{
 "cells": [
  {
   "cell_type": "code",
   "execution_count": 1,
   "metadata": {},
   "outputs": [
    {
     "name": "stderr",
     "output_type": "stream",
     "text": [
      "Using TensorFlow backend.\n"
     ]
    }
   ],
   "source": [
    "import keras\n",
    "from keras.models import Sequential\n",
    "from keras.layers import Convolution2D, MaxPooling2D, Flatten, Dense\n",
    "from keras.preprocessing.image import ImageDataGenerator, array_to_img, img_to_array, load_img\n",
    "from keras.optimizers import SGD, Adam\n",
    "from keras.models import Sequential,Input,Model,load_model\n",
    "from keras.layers import Dense, Dropout, Flatten, GaussianNoise\n",
    "from keras.layers import Conv2D, MaxPooling2D, AveragePooling2D\n",
    "from keras.layers.normalization import BatchNormalization\n",
    "from keras.layers.advanced_activations import LeakyReLU\n",
    "from keras.callbacks import TensorBoard\n",
    "from keras import regularizers"
   ]
  },
  {
   "cell_type": "code",
   "execution_count": 2,
   "metadata": {},
   "outputs": [
    {
     "name": "stdout",
     "output_type": "stream",
     "text": [
      "Found 541 images belonging to 2 classes.\n",
      "Found 136 images belonging to 2 classes.\n"
     ]
    }
   ],
   "source": [
    "import numpy as np\n",
    "from keras.preprocessing.image import ImageDataGenerator, array_to_img\n",
    "\n",
    "def preprocess_input_vgg(x):\n",
    "    \"\"\"Wrapper around keras.applications.vgg16.preprocess_input()\n",
    "    to make it compatible for use with keras.preprocessing.image.ImageDataGenerator's\n",
    "    `preprocessing_function` argument.\n",
    "    \n",
    "    Parameters\n",
    "    ----------\n",
    "    x : a numpy 3darray (a single image to be preprocessed)\n",
    "    \n",
    "    Note we cannot pass keras.applications.vgg16.preprocess_input()\n",
    "    directly to to keras.preprocessing.image.ImageDataGenerator's\n",
    "    `preprocessing_function` argument because the former expects a\n",
    "    4D tensor whereas the latter expects a 3D tensor. Hence the\n",
    "    existence of this wrapper.\n",
    "    \n",
    "    Returns a numpy 3darray (the preprocessed image).\n",
    "    \n",
    "    \"\"\"\n",
    "    from keras.applications.inception_v3 import preprocess_input\n",
    "    X = np.expand_dims(x, axis=0)\n",
    "    X = preprocess_input(X)\n",
    "    return X[0]\n",
    "\n",
    "train_datagen = ImageDataGenerator(preprocessing_function=preprocess_input_vgg,\n",
    "                                   rotation_range=40,\n",
    "                                   width_shift_range=0.2,\n",
    "                                   height_shift_range=0.2,\n",
    "                                   shear_range=0.2,\n",
    "                                   zoom_range=0.2,\n",
    "                                   horizontal_flip=True,\n",
    "                                   fill_mode='nearest')\n",
    "train_generator = train_datagen.flow_from_directory(directory=r'C:\\Users\\7\\Desktop\\Desktop\\dataset\\cancer mnist\\binary dataset\\akiec\\train',\n",
    "                                                    target_size=[140, 140],\n",
    "                                                    batch_size=32,\n",
    "                                                    class_mode='categorical')\n",
    "\n",
    "validation_datagen = ImageDataGenerator(preprocessing_function=preprocess_input_vgg)\n",
    "validation_generator = validation_datagen.flow_from_directory(directory=r'C:\\Users\\7\\Desktop\\Desktop\\dataset\\cancer mnist\\binary dataset\\akiec\\test',\n",
    "                                                              target_size=[140, 140],\n",
    "                                                              batch_size=32,\n",
    "                                                              class_mode='categorical')"
   ]
  },
  {
   "cell_type": "code",
   "execution_count": 3,
   "metadata": {},
   "outputs": [
    {
     "name": "stderr",
     "output_type": "stream",
     "text": [
      "C:\\Users\\7\\Anaconda3\\envs\\tg-gpu-ptchd\\lib\\site-packages\\ipykernel_launcher.py:30: UserWarning: The semantics of the Keras 2 argument `steps_per_epoch` is not the same as the Keras 1 argument `samples_per_epoch`. `steps_per_epoch` is the number of batches to draw from the generator at each epoch. Basically steps_per_epoch = samples_per_epoch/batch_size. Similarly `nb_val_samples`->`validation_steps` and `val_samples`->`steps` arguments have changed. Update your method calls accordingly.\n",
      "C:\\Users\\7\\Anaconda3\\envs\\tg-gpu-ptchd\\lib\\site-packages\\ipykernel_launcher.py:30: UserWarning: Update your `fit_generator` call to the Keras 2 API: `fit_generator(<keras_pre..., steps_per_epoch=64, validation_data=<keras_pre..., validation_steps=32, epochs=1)`\n"
     ]
    },
    {
     "name": "stdout",
     "output_type": "stream",
     "text": [
      "Epoch 1/1\n",
      "64/64 [==============================] - 46s 713ms/step - loss: 1.4793 - acc: 0.5702 - val_loss: 0.6068 - val_acc: 0.6943\n"
     ]
    }
   ],
   "source": [
    "from keras.applications.inception_v3 import InceptionV3\n",
    "from keras.layers import GlobalAveragePooling2D, Dense\n",
    "from keras.models import Model\n",
    "inc_model = InceptionV3(weights='imagenet', include_top=False)\n",
    "\n",
    "# get layers and add average pooling layer\n",
    "x = inc_model.output\n",
    "x = GlobalAveragePooling2D()(x)\n",
    "\n",
    "# add fully-connected layer\n",
    "x = Dense(1024, activation='relu')(x)\n",
    "x = Dropout(0.4)(x)\n",
    "x = Dense(1024, activation='relu')(x)\n",
    "x = Dropout(0.4)(x)\n",
    "# add output layer\n",
    "predictions = Dense(2, activation='softmax')(x)\n",
    "\n",
    "model = Model(inputs=inc_model.input, outputs=predictions)\n",
    "\n",
    "# freeze pre-trained model area's layer\n",
    "for layer in inc_model.layers:\n",
    "    layer.trainable = False\n",
    "\n",
    "# update the weight that are added\n",
    "model.compile(optimizer='rmsprop', loss='categorical_crossentropy',metrics=['accuracy'] )\n",
    "model.fit_generator(train_generator,\n",
    "                    steps_per_epoch=64,\n",
    "                    nb_epoch=1,\n",
    "                    validation_data=validation_generator,\n",
    "                    validation_steps=32)\n",
    "\n",
    "# choose the layers which are updated by training\n",
    "#layer_num = len(model.layers)\n",
    "#for layer in model.layers[:248]:\n",
    "#    layer.trainable = False\n",
    "\n",
    "for layer in model.layers:\n",
    "    layer.trainable = True\n",
    "\n",
    "# training\n",
    "model.compile(optimizer=SGD(lr=1e-4, momentum=0.9), loss='categorical_crossentropy', metrics=['accuracy', 'mae'])"
   ]
  },
  {
   "cell_type": "code",
   "execution_count": 4,
   "metadata": {},
   "outputs": [
    {
     "name": "stderr",
     "output_type": "stream",
     "text": [
      "C:\\Users\\7\\Anaconda3\\envs\\tg-gpu-ptchd\\lib\\site-packages\\ipykernel_launcher.py:6: UserWarning: The semantics of the Keras 2 argument `steps_per_epoch` is not the same as the Keras 1 argument `samples_per_epoch`. `steps_per_epoch` is the number of batches to draw from the generator at each epoch. Basically steps_per_epoch = samples_per_epoch/batch_size. Similarly `nb_val_samples`->`validation_steps` and `val_samples`->`steps` arguments have changed. Update your method calls accordingly.\n",
      "  \n",
      "C:\\Users\\7\\Anaconda3\\envs\\tg-gpu-ptchd\\lib\\site-packages\\ipykernel_launcher.py:6: UserWarning: Update your `fit_generator` call to the Keras 2 API: `fit_generator(<keras_pre..., steps_per_epoch=64, shuffle=True, validation_data=<keras_pre..., validation_steps=16, epochs=10)`\n",
      "  \n"
     ]
    },
    {
     "name": "stdout",
     "output_type": "stream",
     "text": [
      "Epoch 1/10\n",
      "64/64 [==============================] - 40s 621ms/step - loss: 0.5911 - acc: 0.6993 - mean_absolute_error: 0.4112 - val_loss: 0.6163 - val_acc: 0.6455 - val_mean_absolute_error: 0.4458\n",
      "Epoch 2/10\n",
      "64/64 [==============================] - 29s 449ms/step - loss: 0.5650 - acc: 0.7184 - mean_absolute_error: 0.4000 - val_loss: 0.5977 - val_acc: 0.6341 - val_mean_absolute_error: 0.4324\n",
      "Epoch 3/10\n",
      "64/64 [==============================] - 29s 446ms/step - loss: 0.5555 - acc: 0.7292 - mean_absolute_error: 0.3902 - val_loss: 0.5785 - val_acc: 0.6886 - val_mean_absolute_error: 0.4152\n",
      "Epoch 4/10\n",
      "64/64 [==============================] - 27s 430ms/step - loss: 0.5201 - acc: 0.7630 - mean_absolute_error: 0.3683 - val_loss: 0.5764 - val_acc: 0.6545 - val_mean_absolute_error: 0.4134\n",
      "Epoch 5/10\n",
      "64/64 [==============================] - 27s 420ms/step - loss: 0.5085 - acc: 0.7619 - mean_absolute_error: 0.3570 - val_loss: 0.5575 - val_acc: 0.7236 - val_mean_absolute_error: 0.4011\n",
      "Epoch 6/10\n",
      "64/64 [==============================] - 29s 453ms/step - loss: 0.4894 - acc: 0.7759 - mean_absolute_error: 0.3447 - val_loss: 0.5520 - val_acc: 0.6909 - val_mean_absolute_error: 0.3934\n",
      "Epoch 7/10\n",
      "64/64 [==============================] - 28s 440ms/step - loss: 0.4694 - acc: 0.7796 - mean_absolute_error: 0.3315 - val_loss: 0.5513 - val_acc: 0.6773 - val_mean_absolute_error: 0.3933\n",
      "Epoch 8/10\n",
      "64/64 [==============================] - 28s 432ms/step - loss: 0.4671 - acc: 0.7840 - mean_absolute_error: 0.3226 - val_loss: 0.5390 - val_acc: 0.6932 - val_mean_absolute_error: 0.3826\n",
      "Epoch 9/10\n",
      "64/64 [==============================] - 27s 424ms/step - loss: 0.4398 - acc: 0.8037 - mean_absolute_error: 0.3100 - val_loss: 0.5373 - val_acc: 0.6795 - val_mean_absolute_error: 0.3780\n",
      "Epoch 10/10\n",
      "64/64 [==============================] - 30s 465ms/step - loss: 0.4243 - acc: 0.8263 - mean_absolute_error: 0.2985 - val_loss: 0.5295 - val_acc: 0.6923 - val_mean_absolute_error: 0.3705\n"
     ]
    }
   ],
   "source": [
    "history = model.fit_generator(train_generator,\n",
    "                    steps_per_epoch=64,\n",
    "                    nb_epoch=10,\n",
    "                    shuffle = True,\n",
    "                    validation_data=validation_generator,\n",
    "                    validation_steps=16)"
   ]
  },
  {
   "cell_type": "code",
   "execution_count": 4,
   "metadata": {},
   "outputs": [
    {
     "name": "stdout",
     "output_type": "stream",
     "text": [
      "Found 506 images belonging to 6 classes.\n"
     ]
    }
   ],
   "source": [
    "import pandas as pd\n",
    "\n",
    "predict_gen = validation_datagen.flow_from_directory(directory=r'C:\\Users\\7\\Desktop\\Desktop\\dataset\\cancer mnist\\binary dataset\\akiec\\test',\n",
    "                                                              target_size=[140,140],\n",
    "                                                              batch_size=136,\n",
    "                                                              class_mode='categorical')\n",
    "\n",
    "X_val_sample, res = next(predict_gen)\n",
    "y_pred = model.predict(X_val_sample)\n"
   ]
  },
  {
   "cell_type": "code",
   "execution_count": 5,
   "metadata": {},
   "outputs": [
    {
     "ename": "IndexError",
     "evalue": "list index out of range",
     "output_type": "error",
     "traceback": [
      "\u001b[1;31m---------------------------------------------------------------------------\u001b[0m",
      "\u001b[1;31mIndexError\u001b[0m                                Traceback (most recent call last)",
      "\u001b[1;32m<ipython-input-5-0ebc65a26709>\u001b[0m in \u001b[0;36m<module>\u001b[1;34m\u001b[0m\n\u001b[0;32m      1\u001b[0m \u001b[1;32mfor\u001b[0m \u001b[0mx\u001b[0m\u001b[1;33m,\u001b[0m \u001b[0my\u001b[0m \u001b[1;32min\u001b[0m \u001b[0mzip\u001b[0m\u001b[1;33m(\u001b[0m\u001b[0mres\u001b[0m\u001b[1;33m,\u001b[0m \u001b[0my_pred\u001b[0m\u001b[1;33m)\u001b[0m\u001b[1;33m:\u001b[0m\u001b[1;33m\u001b[0m\u001b[0m\n\u001b[1;32m----> 2\u001b[1;33m     \u001b[0mCM\u001b[0m\u001b[1;33m[\u001b[0m\u001b[0mnp\u001b[0m\u001b[1;33m.\u001b[0m\u001b[0margmax\u001b[0m\u001b[1;33m(\u001b[0m\u001b[0mx\u001b[0m\u001b[1;33m)\u001b[0m\u001b[1;33m]\u001b[0m\u001b[1;33m[\u001b[0m\u001b[0mnp\u001b[0m\u001b[1;33m.\u001b[0m\u001b[0margmax\u001b[0m\u001b[1;33m(\u001b[0m\u001b[0my\u001b[0m\u001b[1;33m)\u001b[0m\u001b[1;33m]\u001b[0m \u001b[1;33m=\u001b[0m \u001b[0mCM\u001b[0m\u001b[1;33m[\u001b[0m\u001b[0mnp\u001b[0m\u001b[1;33m.\u001b[0m\u001b[0margmax\u001b[0m\u001b[1;33m(\u001b[0m\u001b[0mx\u001b[0m\u001b[1;33m)\u001b[0m\u001b[1;33m]\u001b[0m\u001b[1;33m[\u001b[0m\u001b[0mnp\u001b[0m\u001b[1;33m.\u001b[0m\u001b[0margmax\u001b[0m\u001b[1;33m(\u001b[0m\u001b[0my\u001b[0m\u001b[1;33m)\u001b[0m\u001b[1;33m]\u001b[0m \u001b[1;33m+\u001b[0m \u001b[1;36m1\u001b[0m\u001b[1;33m\u001b[0m\u001b[0m\n\u001b[0m\u001b[0;32m      3\u001b[0m \u001b[1;33m\u001b[0m\u001b[0m\n\u001b[0;32m      4\u001b[0m \u001b[1;32mfor\u001b[0m \u001b[0mline\u001b[0m \u001b[1;32min\u001b[0m \u001b[0mCM\u001b[0m\u001b[1;33m:\u001b[0m\u001b[1;33m\u001b[0m\u001b[0m\n\u001b[0;32m      5\u001b[0m     \u001b[0mprint\u001b[0m\u001b[1;33m(\u001b[0m\u001b[0mline\u001b[0m\u001b[1;33m)\u001b[0m\u001b[1;33m\u001b[0m\u001b[0m\n",
      "\u001b[1;31mIndexError\u001b[0m: list index out of range"
     ]
    }
   ],
   "source": [
    "model.evaluate_generator(validation_generator, steps=None, max_queue_size=10, workers=1, use_multiprocessing=False, verbose=1)"
   ]
  },
  {
   "cell_type": "code",
   "execution_count": 10,
   "metadata": {},
   "outputs": [],
   "source": [
    "onedtrue = []\n",
    "onedpred = []\n",
    "for true, pred in zip(res, y_pred):\n",
    "    onedtrue.append(np.argmax(true))\n",
    "    onedpred.append(np.argmax(pred))"
   ]
  },
  {
   "cell_type": "code",
   "execution_count": 11,
   "metadata": {},
   "outputs": [
    {
     "data": {
      "text/plain": [
       "array([[ 44,  22,   0,   0,   0,   0],\n",
       "       [ 16,  87,   0,   0,   0,   0],\n",
       "       [ 10,  93,   0,   0,   0,   0],\n",
       "       [  7,  96,   0,   0,   0,   0],\n",
       "       [  0, 103,   0,   0,   0,   0],\n",
       "       [  0,  28,   0,   0,   0,   0]], dtype=int64)"
      ]
     },
     "execution_count": 11,
     "metadata": {},
     "output_type": "execute_result"
    }
   ],
   "source": [
    "from sklearn.metrics import confusion_matrix\n",
    "confusion_matrix(onedtrue, onedpred)"
   ]
  },
  {
   "cell_type": "code",
   "execution_count": 12,
   "metadata": {},
   "outputs": [
    {
     "ename": "ValueError",
     "evalue": "Number of classes, 6, does not match size of target_names, 2. Try specifying the labels parameter",
     "output_type": "error",
     "traceback": [
      "\u001b[1;31m---------------------------------------------------------------------------\u001b[0m",
      "\u001b[1;31mValueError\u001b[0m                                Traceback (most recent call last)",
      "\u001b[1;32m<ipython-input-12-f829fcf34ef1>\u001b[0m in \u001b[0;36m<module>\u001b[1;34m\u001b[0m\n\u001b[0;32m      1\u001b[0m \u001b[1;32mfrom\u001b[0m \u001b[0msklearn\u001b[0m\u001b[1;33m.\u001b[0m\u001b[0mmetrics\u001b[0m \u001b[1;32mimport\u001b[0m \u001b[0mclassification_report\u001b[0m\u001b[1;33m\u001b[0m\u001b[0m\n\u001b[0;32m      2\u001b[0m \u001b[0mtarget_names\u001b[0m \u001b[1;33m=\u001b[0m \u001b[1;33m[\u001b[0m\u001b[1;34m'akiec'\u001b[0m\u001b[1;33m,\u001b[0m \u001b[1;34m'akiec-non'\u001b[0m\u001b[1;33m]\u001b[0m\u001b[1;33m\u001b[0m\u001b[0m\n\u001b[1;32m----> 3\u001b[1;33m \u001b[0mprint\u001b[0m\u001b[1;33m(\u001b[0m\u001b[0mclassification_report\u001b[0m\u001b[1;33m(\u001b[0m\u001b[0monedtrue\u001b[0m\u001b[1;33m,\u001b[0m \u001b[0monedpred\u001b[0m\u001b[1;33m,\u001b[0m \u001b[0mtarget_names\u001b[0m\u001b[1;33m=\u001b[0m\u001b[0mtarget_names\u001b[0m\u001b[1;33m)\u001b[0m\u001b[1;33m)\u001b[0m\u001b[1;33m\u001b[0m\u001b[0m\n\u001b[0m",
      "\u001b[1;32m~\\Anaconda3\\envs\\tg-gpu-ptchd\\lib\\site-packages\\sklearn\\metrics\\classification.py\u001b[0m in \u001b[0;36mclassification_report\u001b[1;34m(y_true, y_pred, labels, target_names, sample_weight, digits, output_dict)\u001b[0m\n\u001b[0;32m   1541\u001b[0m                 \u001b[1;34m\"Number of classes, {0}, does not match size of \"\u001b[0m\u001b[1;33m\u001b[0m\u001b[0m\n\u001b[0;32m   1542\u001b[0m                 \u001b[1;34m\"target_names, {1}. Try specifying the labels \"\u001b[0m\u001b[1;33m\u001b[0m\u001b[0m\n\u001b[1;32m-> 1543\u001b[1;33m                 \u001b[1;34m\"parameter\"\u001b[0m\u001b[1;33m.\u001b[0m\u001b[0mformat\u001b[0m\u001b[1;33m(\u001b[0m\u001b[0mlen\u001b[0m\u001b[1;33m(\u001b[0m\u001b[0mlabels\u001b[0m\u001b[1;33m)\u001b[0m\u001b[1;33m,\u001b[0m \u001b[0mlen\u001b[0m\u001b[1;33m(\u001b[0m\u001b[0mtarget_names\u001b[0m\u001b[1;33m)\u001b[0m\u001b[1;33m)\u001b[0m\u001b[1;33m\u001b[0m\u001b[0m\n\u001b[0m\u001b[0;32m   1544\u001b[0m             )\n\u001b[0;32m   1545\u001b[0m     \u001b[1;32mif\u001b[0m \u001b[0mtarget_names\u001b[0m \u001b[1;32mis\u001b[0m \u001b[1;32mNone\u001b[0m\u001b[1;33m:\u001b[0m\u001b[1;33m\u001b[0m\u001b[0m\n",
      "\u001b[1;31mValueError\u001b[0m: Number of classes, 6, does not match size of target_names, 2. Try specifying the labels parameter"
     ]
    }
   ],
   "source": [
    "from sklearn.metrics import classification_report\n",
    "target_names = ['akiec', 'akiec-non']\n",
    "print(classification_report(onedtrue, onedpred, target_names=target_names))"
   ]
  },
  {
   "cell_type": "code",
   "execution_count": 29,
   "metadata": {},
   "outputs": [],
   "source": [
    "model.save('akiec-7867-40epc.h5')"
   ]
  },
  {
   "cell_type": "markdown",
   "metadata": {},
   "source": [
    "# Ensemble"
   ]
  },
  {
   "cell_type": "code",
   "execution_count": 1,
   "metadata": {},
   "outputs": [
    {
     "name": "stderr",
     "output_type": "stream",
     "text": [
      "Using TensorFlow backend.\n"
     ]
    }
   ],
   "source": [
    "import keras\n",
    "from keras.models import Sequential\n",
    "from keras.layers import Convolution2D, MaxPooling2D, Flatten, Dense\n",
    "from keras.preprocessing.image import ImageDataGenerator, array_to_img, img_to_array, load_img\n",
    "from keras.optimizers import SGD, Adam\n",
    "from keras.models import Sequential,Input,Model,load_model\n",
    "from keras.layers import Dense, Dropout, Flatten, GaussianNoise\n",
    "from keras.layers import Conv2D, MaxPooling2D, AveragePooling2D\n",
    "from keras.layers.normalization import BatchNormalization\n",
    "from keras.layers.advanced_activations import LeakyReLU\n",
    "from keras.callbacks import TensorBoard\n",
    "from keras import regularizers"
   ]
  },
  {
   "cell_type": "code",
   "execution_count": 2,
   "metadata": {},
   "outputs": [
    {
     "name": "stdout",
     "output_type": "stream",
     "text": [
      "Found 541 images belonging to 2 classes.\n",
      "Found 136 images belonging to 2 classes.\n"
     ]
    }
   ],
   "source": [
    "import numpy as np\n",
    "from keras.preprocessing.image import ImageDataGenerator, array_to_img\n",
    "\n",
    "def preprocess_input_vgg(x):\n",
    "    \"\"\"Wrapper around keras.applications.vgg16.preprocess_input()\n",
    "    to make it compatible for use with keras.preprocessing.image.ImageDataGenerator's\n",
    "    `preprocessing_function` argument.\n",
    "    \n",
    "    Parameters\n",
    "    ----------\n",
    "    x : a numpy 3darray (a single image to be preprocessed)\n",
    "    \n",
    "    Note we cannot pass keras.applications.vgg16.preprocess_input()\n",
    "    directly to to keras.preprocessing.image.ImageDataGenerator's\n",
    "    `preprocessing_function` argument because the former expects a\n",
    "    4D tensor whereas the latter expects a 3D tensor. Hence the\n",
    "    existence of this wrapper.\n",
    "    \n",
    "    Returns a numpy 3darray (the preprocessed image).\n",
    "    \n",
    "    \"\"\"\n",
    "    from keras.applications.inception_v3 import preprocess_input\n",
    "    X = np.expand_dims(x, axis=0)\n",
    "    X = preprocess_input(X)\n",
    "    return X[0]\n",
    "\n",
    "train_datagen = ImageDataGenerator(preprocessing_function=preprocess_input_vgg,\n",
    "                                   rotation_range=40,\n",
    "                                   width_shift_range=0.2,\n",
    "                                   height_shift_range=0.2,\n",
    "                                   shear_range=0.2,\n",
    "                                   zoom_range=0.2,\n",
    "                                   horizontal_flip=True,\n",
    "                                   fill_mode='nearest')\n",
    "train_generator = train_datagen.flow_from_directory(directory=r'C:\\Users\\7\\Desktop\\Desktop\\dataset\\cancer mnist\\binary dataset\\akiec\\train',\n",
    "                                                    target_size=[140, 140],\n",
    "                                                    batch_size=32,\n",
    "                                                    class_mode='categorical')\n",
    "\n",
    "validation_datagen = ImageDataGenerator(preprocessing_function=preprocess_input_vgg)\n",
    "validation_generator = validation_datagen.flow_from_directory(directory=r'C:\\Users\\7\\Desktop\\Desktop\\dataset\\cancer mnist\\binary dataset\\akiec\\test',\n",
    "                                                              target_size=[140, 140],\n",
    "                                                              batch_size=32,\n",
    "                                                              class_mode='categorical')"
   ]
  },
  {
   "cell_type": "code",
   "execution_count": 3,
   "metadata": {},
   "outputs": [],
   "source": [
    "model = load_model(r'C:\\Users\\7\\Desktop\\Desktop\\dataset\\cancer mnist\\ensemble\\akiec-7867-40epc.h5')"
   ]
  },
  {
   "cell_type": "code",
   "execution_count": 4,
   "metadata": {},
   "outputs": [],
   "source": [
    "predictions = []\n",
    "for k in range(506):\n",
    "    predictions.append([])"
   ]
  },
  {
   "cell_type": "code",
   "execution_count": 5,
   "metadata": {},
   "outputs": [
    {
     "name": "stdout",
     "output_type": "stream",
     "text": [
      "Found 506 images belonging to 6 classes.\n"
     ]
    }
   ],
   "source": [
    "import pandas as pd\n",
    "\n",
    "predict_gen = validation_datagen.flow_from_directory(directory=r'C:\\Users\\7\\Desktop\\Desktop\\dataset\\cancer mnist\\unbalanced\\test',\n",
    "                                                              target_size=[140,140],\n",
    "                                                              batch_size=506,\n",
    "                                                              shuffle = False,\n",
    "                                                              class_mode='categorical')\n",
    "\n",
    "X_val_sample, res = next(predict_gen)\n",
    "y_pred = model.predict(X_val_sample)\n"
   ]
  },
  {
   "cell_type": "code",
   "execution_count": 6,
   "metadata": {},
   "outputs": [],
   "source": [
    "for index,y in enumerate(y_pred):\n",
    "    predictions[index].append(y[0])"
   ]
  },
  {
   "cell_type": "code",
   "execution_count": 10,
   "metadata": {},
   "outputs": [],
   "source": [
    "import pickle\n",
    "with open(\"pred_akiec.txt\", \"wb\") as fp:   #Pickling\n",
    "    pickle.dump(predictions, fp)"
   ]
  },
  {
   "cell_type": "code",
   "execution_count": null,
   "metadata": {},
   "outputs": [],
   "source": []
  }
 ],
 "metadata": {
  "kernelspec": {
   "display_name": "TensorFlow-GPU-INCPT-PATCHED",
   "language": "python",
   "name": "tf-gpu-ptc"
  },
  "language_info": {
   "codemirror_mode": {
    "name": "ipython",
    "version": 3
   },
   "file_extension": ".py",
   "mimetype": "text/x-python",
   "name": "python",
   "nbconvert_exporter": "python",
   "pygments_lexer": "ipython3",
   "version": "3.6.6"
  }
 },
 "nbformat": 4,
 "nbformat_minor": 2
}
