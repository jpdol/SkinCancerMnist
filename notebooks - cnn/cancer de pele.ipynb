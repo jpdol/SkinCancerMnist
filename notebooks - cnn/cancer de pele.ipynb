{
 "cells": [
  {
   "cell_type": "code",
   "execution_count": 3,
   "metadata": {},
   "outputs": [],
   "source": [
    "import pandas as pd\n",
    "\n",
    "dataset = pd.read_csv(r'C:\\Users\\7\\Desktop\\Desktop\\dataset\\cancer mnist//HAM10000_metadata.csv')\n",
    "dataset0 = dataset.sort_values('image_id')"
   ]
  },
  {
   "cell_type": "code",
   "execution_count": 10,
   "metadata": {},
   "outputs": [],
   "source": [
    "import cv2\n",
    "import numpy as np\n",
    "import pandas as pd\n",
    "\n",
    "import os\n",
    "def load_images_from_folder(folder, index):\n",
    "    \n",
    "    for filename in os.listdir(folder):\n",
    "        img = cv2.imread(os.path.join(folder,filename))\n",
    "        cv2.imwrite(r'C:\\Users\\7\\Desktop\\Desktop\\dataset\\cancer mnist\\classifiedImgs//' + dataset0.iloc[index]['dx'] + '//' + dataset0.iloc[index]['image_id'] +'.png', img)\n",
    "        #r = 50 / img.shape[1]\n",
    "        #dim = (50, int(img.shape[0] * r))\n",
    "        #resized = cv2.resize(img, dim, interpolation = cv2.INTER_AREA)\n",
    "        index = index + 1\n",
    "    return index\n",
    "index = load_images_from_folder(r\"C:\\Users\\7\\Desktop\\Desktop\\dataset\\cancer mnist\\HAM10000_images_part_1\", 0)"
   ]
  },
  {
   "cell_type": "markdown",
   "metadata": {},
   "source": [
    "# cru"
   ]
  },
  {
   "cell_type": "code",
   "execution_count": 1,
   "metadata": {},
   "outputs": [
    {
     "name": "stderr",
     "output_type": "stream",
     "text": [
      "Using TensorFlow backend.\n"
     ]
    }
   ],
   "source": [
    "import keras\n",
    "from keras.models import Sequential\n",
    "from keras.layers import Convolution2D, MaxPooling2D, Flatten, Dense\n",
    "from keras.preprocessing.image import ImageDataGenerator, array_to_img, img_to_array, load_img\n",
    "from keras.optimizers import SGD, Adam\n",
    "from keras.models import Sequential,Input,Model,load_model\n",
    "from keras.layers import Dense, Dropout, Flatten, GaussianNoise\n",
    "from keras.layers import Conv2D, MaxPooling2D, AveragePooling2D\n",
    "from keras.layers.normalization import BatchNormalization\n",
    "from keras.layers.advanced_activations import LeakyReLU\n",
    "from keras.callbacks import TensorBoard\n",
    "from keras import regularizers"
   ]
  },
  {
   "cell_type": "code",
   "execution_count": 2,
   "metadata": {},
   "outputs": [
    {
     "name": "stdout",
     "output_type": "stream",
     "text": [
      "Found 546 images belonging to 6 classes.\n",
      "Found 144 images belonging to 6 classes.\n"
     ]
    }
   ],
   "source": [
    "import numpy as np\n",
    "from keras.preprocessing.image import ImageDataGenerator, array_to_img\n",
    "\n",
    "def preprocess_input_vgg(x):\n",
    "    \"\"\"Wrapper around keras.applications.vgg16.preprocess_input()\n",
    "    to make it compatible for use with keras.preprocessing.image.ImageDataGenerator's\n",
    "    `preprocessing_function` argument.\n",
    "    \n",
    "    Parameters\n",
    "    ----------\n",
    "    x : a numpy 3darray (a single image to be preprocessed)\n",
    "    \n",
    "    Note we cannot pass keras.applications.vgg16.preprocess_input()\n",
    "    directly to to keras.preprocessing.image.ImageDataGenerator's\n",
    "    `preprocessing_function` argument because the former expects a\n",
    "    4D tensor whereas the latter expects a 3D tensor. Hence the\n",
    "    existence of this wrapper.\n",
    "    \n",
    "    Returns a numpy 3darray (the preprocessed image).\n",
    "    \n",
    "    \"\"\"\n",
    "    from keras.applications.vgg16 import preprocess_input\n",
    "    X = np.expand_dims(x, axis=0)\n",
    "    X = preprocess_input(X)\n",
    "    return X[0]\n",
    "\n",
    "train_datagen = ImageDataGenerator(preprocessing_function=preprocess_input_vgg,\n",
    "                                   rotation_range=40,\n",
    "                                   width_shift_range=0.2,\n",
    "                                   height_shift_range=0.2,\n",
    "                                   shear_range=0.2,\n",
    "                                   zoom_range=0.2,\n",
    "                                   horizontal_flip=True,\n",
    "                                   fill_mode='nearest')\n",
    "train_generator = train_datagen.flow_from_directory(directory=r'C:\\Users\\7\\Desktop\\Desktop\\dataset\\cancer mnist\\balanced\\train',\n",
    "                                                    target_size=[28,28],\n",
    "                                                    batch_size=32,\n",
    "                                                    class_mode='categorical')\n",
    "\n",
    "validation_datagen = ImageDataGenerator(preprocessing_function=preprocess_input_vgg)\n",
    "validation_generator = validation_datagen.flow_from_directory(directory=r'C:\\Users\\7\\Desktop\\Desktop\\dataset\\cancer mnist\\balanced\\test',\n",
    "                                                              target_size=[28,28],\n",
    "                                                              batch_size=32,\n",
    "                                                              class_mode='categorical')"
   ]
  },
  {
   "cell_type": "code",
   "execution_count": 3,
   "metadata": {},
   "outputs": [],
   "source": [
    "skncancer_model = Sequential()\n",
    "num_classes = 6\n",
    "activ = keras.layers.LeakyReLU(alpha=0.3)"
   ]
  },
  {
   "cell_type": "code",
   "execution_count": 4,
   "metadata": {},
   "outputs": [],
   "source": [
    "skncancer_model.add(Conv2D(64, (3,3), input_shape = (28,28, 3), activation='relu', padding='same'))\n",
    "\n",
    "skncancer_model.add(Conv2D(64, (3,3), activation='relu', padding='same'))\n",
    "\n",
    "skncancer_model.add(MaxPooling2D((2, 2), strides=2,padding='same'))\n",
    "\n",
    "skncancer_model.add(Conv2D(128, (3,3), activation='relu', padding='same'))\n",
    "\n",
    "skncancer_model.add(Conv2D(128, (3,3), activation='relu', padding='same'))\n",
    "\n",
    "skncancer_model.add(MaxPooling2D((2, 2), strides=2,padding='same'))\n",
    "\n",
    "skncancer_model.add(Conv2D(256, (3,3), activation='relu', padding='same'))\n",
    "\n",
    "skncancer_model.add(Conv2D(256, (3,3), activation='relu', padding='same'))\n",
    "\n",
    "skncancer_model.add(MaxPooling2D((2, 2), strides=2,padding='same'))\n",
    "\n",
    "skncancer_model.add(Conv2D(512, (3,3), activation='relu', padding='same'))\n",
    "\n",
    "skncancer_model.add(Conv2D(512, (3,3), activation='relu', padding='same'))\n",
    "\n",
    "skncancer_model.add(MaxPooling2D((2, 2), strides=2,padding='same'))\n",
    "\n",
    "skncancer_model.add(Conv2D(512, (3,3), activation='relu', padding='same'))\n",
    "\n",
    "skncancer_model.add(Conv2D(512, (3,3), activation='relu', padding='same'))\n",
    "\n",
    "skncancer_model.add(MaxPooling2D((2, 2), strides=2,padding='same'))\n",
    "\n",
    "skncancer_model.add(Flatten())\n",
    "\n",
    "skncancer_model.add(Dense(2048, activation='relu'))\n",
    "skncancer_model.add(Dropout(0.4))\n",
    "skncancer_model.add(Dense(1024, activation='relu'))\n",
    "skncancer_model.add(Dropout(0.4))\n",
    "skncancer_model.add(Dense(activation='softmax', units = num_classes))"
   ]
  },
  {
   "cell_type": "code",
   "execution_count": 5,
   "metadata": {},
   "outputs": [],
   "source": [
    "adam = Adam(lr=0.0025, beta_1=0.9, beta_2=0.999, epsilon=None, decay=0.0, amsgrad=False)\n",
    "skncancer_model.compile(optimizer = 'sgd', loss = keras.losses.categorical_crossentropy, metrics = ['accuracy'])"
   ]
  },
  {
   "cell_type": "code",
   "execution_count": 6,
   "metadata": {
    "scrolled": true
   },
   "outputs": [
    {
     "name": "stdout",
     "output_type": "stream",
     "text": [
      "Epoch 1/100\n",
      "64/64 [==============================] - 23s 356ms/step - loss: 1.7753 - acc: 0.2124 - val_loss: 1.6838 - val_acc: 0.2457\n",
      "Epoch 2/100\n",
      "64/64 [==============================] - 21s 326ms/step - loss: 1.6999 - acc: 0.2423 - val_loss: 1.5900 - val_acc: 0.3610\n",
      "Epoch 3/100\n",
      "64/64 [==============================] - 20s 320ms/step - loss: 1.6475 - acc: 0.3217 - val_loss: 1.6404 - val_acc: 0.3004\n",
      "Epoch 4/100\n",
      "64/64 [==============================] - 21s 333ms/step - loss: 1.5944 - acc: 0.3401 - val_loss: 1.6109 - val_acc: 0.3362\n",
      "Epoch 5/100\n",
      "64/64 [==============================] - 20s 307ms/step - loss: 1.6075 - acc: 0.3271 - val_loss: 1.5098 - val_acc: 0.4090\n",
      "Epoch 6/100\n",
      "64/64 [==============================] - 21s 335ms/step - loss: 1.5393 - acc: 0.3464 - val_loss: 1.7328 - val_acc: 0.2543\n",
      "Epoch 7/100\n",
      "64/64 [==============================] - 20s 310ms/step - loss: 1.4747 - acc: 0.3790 - val_loss: 1.4557 - val_acc: 0.4116\n",
      "Epoch 8/100\n",
      "64/64 [==============================] - 23s 358ms/step - loss: 1.4824 - acc: 0.4137 - val_loss: 1.4350 - val_acc: 0.4145\n",
      "Epoch 9/100\n",
      "64/64 [==============================] - 20s 320ms/step - loss: 1.4325 - acc: 0.4074 - val_loss: 1.8297 - val_acc: 0.2748\n",
      "Epoch 10/100\n",
      "64/64 [==============================] - 20s 311ms/step - loss: 1.4521 - acc: 0.4334 - val_loss: 1.4261 - val_acc: 0.4298\n",
      "Epoch 11/100\n",
      "64/64 [==============================] - 21s 324ms/step - loss: 1.3588 - acc: 0.4355 - val_loss: 1.2902 - val_acc: 0.5000\n",
      "Epoch 12/100\n",
      "64/64 [==============================] - 20s 309ms/step - loss: 1.3672 - acc: 0.4156 - val_loss: 1.2831 - val_acc: 0.4774\n",
      "Epoch 13/100\n",
      "64/64 [==============================] - 22s 341ms/step - loss: 1.3688 - acc: 0.4536 - val_loss: 1.3053 - val_acc: 0.5329\n",
      "Epoch 14/100\n",
      "64/64 [==============================] - 20s 306ms/step - loss: 1.2477 - acc: 0.4974 - val_loss: 1.2037 - val_acc: 0.5345\n",
      "Epoch 15/100\n",
      "64/64 [==============================] - 22s 343ms/step - loss: 1.3831 - acc: 0.4501 - val_loss: 1.2343 - val_acc: 0.6250\n",
      "Epoch 16/100\n",
      "64/64 [==============================] - 19s 301ms/step - loss: 1.2014 - acc: 0.5043 - val_loss: 1.1171 - val_acc: 0.5496\n",
      "Epoch 17/100\n",
      "64/64 [==============================] - 22s 348ms/step - loss: 1.2664 - acc: 0.4896 - val_loss: 1.3232 - val_acc: 0.4731\n",
      "Epoch 18/100\n",
      "64/64 [==============================] - 21s 325ms/step - loss: 1.3737 - acc: 0.4494 - val_loss: 1.4045 - val_acc: 0.4046\n",
      "Epoch 19/100\n",
      "64/64 [==============================] - 20s 312ms/step - loss: 1.2373 - acc: 0.5097 - val_loss: 1.0829 - val_acc: 0.5636\n",
      "Epoch 20/100\n",
      "64/64 [==============================] - 21s 328ms/step - loss: 1.1615 - acc: 0.5225 - val_loss: 1.0363 - val_acc: 0.6305\n",
      "Epoch 21/100\n",
      "64/64 [==============================] - 20s 312ms/step - loss: 1.0941 - acc: 0.5573 - val_loss: 1.0203 - val_acc: 0.6638\n",
      "Epoch 22/100\n",
      "64/64 [==============================] - 21s 334ms/step - loss: 1.2474 - acc: 0.5394 - val_loss: 1.2680 - val_acc: 0.4537\n",
      "Epoch 23/100\n",
      "64/64 [==============================] - 20s 314ms/step - loss: 1.2130 - acc: 0.5244 - val_loss: 1.1775 - val_acc: 0.4934\n",
      "Epoch 24/100\n",
      "64/64 [==============================] - 21s 336ms/step - loss: 1.2456 - acc: 0.5176 - val_loss: 1.0612 - val_acc: 0.5700\n",
      "Epoch 25/100\n",
      "64/64 [==============================] - 20s 312ms/step - loss: 1.1009 - acc: 0.5450 - val_loss: 0.9654 - val_acc: 0.6118\n",
      "Epoch 26/100\n",
      "64/64 [==============================] - 22s 337ms/step - loss: 1.1018 - acc: 0.5617 - val_loss: 1.0034 - val_acc: 0.6606\n",
      "Epoch 27/100\n",
      "64/64 [==============================] - 20s 320ms/step - loss: 1.1027 - acc: 0.5591 - val_loss: 1.0088 - val_acc: 0.6541\n",
      "Epoch 28/100\n",
      "64/64 [==============================] - 20s 320ms/step - loss: 1.0743 - acc: 0.5591 - val_loss: 0.9657 - val_acc: 0.6425\n",
      "Epoch 29/100\n",
      "64/64 [==============================] - 21s 326ms/step - loss: 1.0613 - acc: 0.5806 - val_loss: 0.9709 - val_acc: 0.6325\n",
      "Epoch 30/100\n",
      "64/64 [==============================] - 20s 308ms/step - loss: 0.9464 - acc: 0.6044 - val_loss: 0.9465 - val_acc: 0.6502\n",
      "Epoch 31/100\n",
      "64/64 [==============================] - 21s 330ms/step - loss: 0.9653 - acc: 0.6069 - val_loss: 1.0417 - val_acc: 0.6509\n",
      "Epoch 32/100\n",
      "64/64 [==============================] - 20s 309ms/step - loss: 0.9979 - acc: 0.6151 - val_loss: 0.9000 - val_acc: 0.6369\n",
      "Epoch 33/100\n",
      "64/64 [==============================] - 22s 349ms/step - loss: 0.9598 - acc: 0.6168 - val_loss: 0.9085 - val_acc: 0.6798\n",
      "Epoch 34/100\n",
      "64/64 [==============================] - 20s 310ms/step - loss: 0.9686 - acc: 0.6196 - val_loss: 0.9508 - val_acc: 0.6153\n",
      "Epoch 35/100\n",
      "64/64 [==============================] - 23s 353ms/step - loss: 0.8960 - acc: 0.6498 - val_loss: 0.9746 - val_acc: 0.6162\n",
      "Epoch 36/100\n",
      "64/64 [==============================] - 20s 312ms/step - loss: 0.9317 - acc: 0.6194 - val_loss: 0.9204 - val_acc: 0.6886\n",
      "Epoch 37/100\n",
      "64/64 [==============================] - 20s 309ms/step - loss: 0.9676 - acc: 0.6139 - val_loss: 0.9772 - val_acc: 0.6584\n",
      "Epoch 38/100\n",
      "64/64 [==============================] - 21s 334ms/step - loss: 0.9579 - acc: 0.6202 - val_loss: 0.8638 - val_acc: 0.6831\n",
      "Epoch 39/100\n",
      "64/64 [==============================] - 19s 304ms/step - loss: 0.9409 - acc: 0.6365 - val_loss: 0.9598 - val_acc: 0.6466\n",
      "Epoch 40/100\n",
      "64/64 [==============================] - 21s 335ms/step - loss: 0.8931 - acc: 0.6550 - val_loss: 0.8712 - val_acc: 0.7083\n",
      "Epoch 41/100\n",
      "64/64 [==============================] - 18s 288ms/step - loss: 0.8362 - acc: 0.6775 - val_loss: 0.8796 - val_acc: 0.6778\n",
      "Epoch 42/100\n",
      "64/64 [==============================] - 21s 324ms/step - loss: 0.8465 - acc: 0.6691 - val_loss: 0.9042 - val_acc: 0.6562\n",
      "Epoch 43/100\n",
      "64/64 [==============================] - 19s 296ms/step - loss: 0.9709 - acc: 0.5882 - val_loss: 0.9047 - val_acc: 0.6886\n",
      "Epoch 44/100\n",
      "64/64 [==============================] - 21s 327ms/step - loss: 0.9321 - acc: 0.6509 - val_loss: 0.9479 - val_acc: 0.6972\n",
      "Epoch 45/100\n",
      "64/64 [==============================] - 20s 308ms/step - loss: 0.8748 - acc: 0.6540 - val_loss: 1.0104 - val_acc: 0.6557\n",
      "Epoch 46/100\n",
      "64/64 [==============================] - 19s 290ms/step - loss: 0.7813 - acc: 0.6932 - val_loss: 0.9687 - val_acc: 0.7058\n",
      "Epoch 47/100\n",
      "64/64 [==============================] - 20s 312ms/step - loss: 0.8284 - acc: 0.6694 - val_loss: 0.9511 - val_acc: 0.6476\n",
      "Epoch 48/100\n",
      "64/64 [==============================] - 19s 302ms/step - loss: 0.9505 - acc: 0.6290 - val_loss: 0.9932 - val_acc: 0.5976\n",
      "Epoch 49/100\n",
      "64/64 [==============================] - 20s 313ms/step - loss: 0.9135 - acc: 0.6520 - val_loss: 0.8863 - val_acc: 0.6897\n",
      "Epoch 50/100\n",
      "64/64 [==============================] - 19s 296ms/step - loss: 0.9114 - acc: 0.6450 - val_loss: 0.8990 - val_acc: 0.6546\n",
      "Epoch 51/100\n",
      "64/64 [==============================] - 20s 319ms/step - loss: 0.8402 - acc: 0.6694 - val_loss: 0.9226 - val_acc: 0.6961\n",
      "Epoch 52/100\n",
      "64/64 [==============================] - 19s 300ms/step - loss: 0.8576 - acc: 0.6873 - val_loss: 0.9527 - val_acc: 0.6347\n",
      "Epoch 53/100\n",
      "64/64 [==============================] - 23s 357ms/step - loss: 0.8356 - acc: 0.6704 - val_loss: 0.9293 - val_acc: 0.7171\n",
      "Epoch 54/100\n",
      "64/64 [==============================] - 21s 321ms/step - loss: 0.7515 - acc: 0.7137 - val_loss: 0.9601 - val_acc: 0.6530\n",
      "Epoch 55/100\n",
      "64/64 [==============================] - 21s 321ms/step - loss: 0.8911 - acc: 0.6521 - val_loss: 1.1388 - val_acc: 0.5768\n",
      "Epoch 56/100\n",
      "64/64 [==============================] - 20s 315ms/step - loss: 0.8238 - acc: 0.6804 - val_loss: 0.9264 - val_acc: 0.7004\n",
      "Epoch 57/100\n",
      "64/64 [==============================] - 20s 306ms/step - loss: 0.7677 - acc: 0.6959 - val_loss: 0.9907 - val_acc: 0.6466\n",
      "Epoch 58/100\n",
      "64/64 [==============================] - 21s 324ms/step - loss: 0.8930 - acc: 0.6716 - val_loss: 0.9067 - val_acc: 0.6798\n",
      "Epoch 59/100\n",
      "64/64 [==============================] - 19s 297ms/step - loss: 0.7304 - acc: 0.7090 - val_loss: 0.9174 - val_acc: 0.6950\n",
      "Epoch 60/100\n",
      "64/64 [==============================] - 21s 335ms/step - loss: 1.0943 - acc: 0.6343 - val_loss: 0.9149 - val_acc: 0.6842\n",
      "Epoch 61/100\n",
      "64/64 [==============================] - 19s 299ms/step - loss: 0.7195 - acc: 0.7192 - val_loss: 0.9742 - val_acc: 0.6444\n"
     ]
    },
    {
     "name": "stdout",
     "output_type": "stream",
     "text": [
      "Epoch 62/100\n",
      "64/64 [==============================] - 23s 361ms/step - loss: 0.7261 - acc: 0.7147 - val_loss: 0.9415 - val_acc: 0.7004\n",
      "Epoch 63/100\n",
      "64/64 [==============================] - 21s 335ms/step - loss: 1.4938 - acc: 0.4827 - val_loss: 1.1582 - val_acc: 0.5680\n",
      "Epoch 64/100\n",
      "64/64 [==============================] - 20s 310ms/step - loss: 1.0885 - acc: 0.5993 - val_loss: 1.1896 - val_acc: 0.5269\n",
      "Epoch 65/100\n",
      "64/64 [==============================] - 21s 322ms/step - loss: 1.0015 - acc: 0.6175 - val_loss: 0.9427 - val_acc: 0.5976\n",
      "Epoch 66/100\n",
      "64/64 [==============================] - 20s 311ms/step - loss: 0.8638 - acc: 0.6658 - val_loss: 1.2834 - val_acc: 0.6088\n",
      "Epoch 67/100\n",
      "64/64 [==============================] - 22s 340ms/step - loss: 0.8787 - acc: 0.6653 - val_loss: 1.1137 - val_acc: 0.6185\n",
      "Epoch 68/100\n",
      "64/64 [==============================] - 21s 329ms/step - loss: 1.0658 - acc: 0.5833 - val_loss: 0.9347 - val_acc: 0.6349\n",
      "Epoch 69/100\n",
      "64/64 [==============================] - 22s 339ms/step - loss: 0.9488 - acc: 0.6270 - val_loss: 0.8325 - val_acc: 0.7522\n",
      "Epoch 70/100\n",
      "64/64 [==============================] - 20s 305ms/step - loss: 0.7977 - acc: 0.6942 - val_loss: 0.8920 - val_acc: 0.6886\n",
      "Epoch 71/100\n",
      "64/64 [==============================] - 22s 341ms/step - loss: 0.7532 - acc: 0.7118 - val_loss: 0.9037 - val_acc: 0.6918\n",
      "Epoch 72/100\n",
      "64/64 [==============================] - 20s 319ms/step - loss: 0.7060 - acc: 0.7305 - val_loss: 1.0113 - val_acc: 0.6810\n",
      "Epoch 73/100\n",
      "64/64 [==============================] - 20s 315ms/step - loss: 0.7671 - acc: 0.7104 - val_loss: 0.9224 - val_acc: 0.7083\n",
      "Epoch 74/100\n",
      "64/64 [==============================] - 21s 324ms/step - loss: 0.8089 - acc: 0.6929 - val_loss: 0.9466 - val_acc: 0.6562\n",
      "Epoch 75/100\n",
      "64/64 [==============================] - 19s 304ms/step - loss: 0.7855 - acc: 0.6968 - val_loss: 0.9111 - val_acc: 0.6579\n",
      "Epoch 76/100\n",
      "64/64 [==============================] - 21s 324ms/step - loss: 0.6535 - acc: 0.7601 - val_loss: 0.8814 - val_acc: 0.7317\n",
      "Epoch 77/100\n",
      "64/64 [==============================] - 20s 315ms/step - loss: 0.6119 - acc: 0.7595 - val_loss: 1.1748 - val_acc: 0.6703\n",
      "Epoch 78/100\n",
      "64/64 [==============================] - 23s 356ms/step - loss: 0.6204 - acc: 0.7621 - val_loss: 1.0920 - val_acc: 0.7204\n",
      "Epoch 79/100\n",
      "64/64 [==============================] - 20s 310ms/step - loss: 0.8532 - acc: 0.6871 - val_loss: 0.9036 - val_acc: 0.6940\n",
      "Epoch 80/100\n",
      "64/64 [==============================] - 22s 343ms/step - loss: 0.6150 - acc: 0.7554 - val_loss: 1.1597 - val_acc: 0.6228\n",
      "Epoch 81/100\n",
      "64/64 [==============================] - 20s 311ms/step - loss: 0.6592 - acc: 0.7481 - val_loss: 0.9812 - val_acc: 0.7349\n",
      "Epoch 82/100\n",
      "64/64 [==============================] - 20s 307ms/step - loss: 0.6142 - acc: 0.7763 - val_loss: 0.9960 - val_acc: 0.6756\n",
      "Epoch 83/100\n",
      "64/64 [==============================] - 21s 328ms/step - loss: 0.5851 - acc: 0.7811 - val_loss: 0.9769 - val_acc: 0.6809\n",
      "Epoch 84/100\n",
      "64/64 [==============================] - 20s 311ms/step - loss: 0.5060 - acc: 0.8074 - val_loss: 1.0075 - val_acc: 0.6940\n",
      "Epoch 85/100\n",
      "64/64 [==============================] - 21s 322ms/step - loss: 0.5681 - acc: 0.7870 - val_loss: 1.0160 - val_acc: 0.6678\n",
      "Epoch 86/100\n",
      "64/64 [==============================] - 19s 296ms/step - loss: 0.6235 - acc: 0.7738 - val_loss: 1.0865 - val_acc: 0.6261\n",
      "Epoch 87/100\n",
      "64/64 [==============================] - 22s 337ms/step - loss: 0.6214 - acc: 0.7695 - val_loss: 1.0529 - val_acc: 0.6681\n",
      "Epoch 88/100\n",
      "64/64 [==============================] - 22s 339ms/step - loss: 0.6120 - acc: 0.7656 - val_loss: 1.1171 - val_acc: 0.7007\n",
      "Epoch 89/100\n",
      "64/64 [==============================] - 22s 338ms/step - loss: 0.6682 - acc: 0.7695 - val_loss: 1.0102 - val_acc: 0.6724\n",
      "Epoch 90/100\n",
      "64/64 [==============================] - 20s 314ms/step - loss: 0.5650 - acc: 0.7766 - val_loss: 1.1595 - val_acc: 0.6338\n",
      "Epoch 91/100\n",
      "64/64 [==============================] - 20s 308ms/step - loss: 0.5273 - acc: 0.7968 - val_loss: 1.1788 - val_acc: 0.6961\n",
      "Epoch 92/100\n",
      "64/64 [==============================] - 21s 326ms/step - loss: 1.1305 - acc: 0.6291 - val_loss: 1.1316 - val_acc: 0.5851\n",
      "Epoch 93/100\n",
      "64/64 [==============================] - 20s 312ms/step - loss: 0.8449 - acc: 0.6668 - val_loss: 1.0541 - val_acc: 0.6754\n",
      "Epoch 94/100\n",
      "64/64 [==============================] - 22s 340ms/step - loss: 0.7427 - acc: 0.7281 - val_loss: 1.0302 - val_acc: 0.6929\n",
      "Epoch 95/100\n",
      "64/64 [==============================] - 20s 307ms/step - loss: 0.6725 - acc: 0.7379 - val_loss: 0.9973 - val_acc: 0.6765\n",
      "Epoch 96/100\n",
      "64/64 [==============================] - 21s 334ms/step - loss: 0.5522 - acc: 0.8074 - val_loss: 1.0880 - val_acc: 0.6907\n",
      "Epoch 97/100\n",
      "64/64 [==============================] - 20s 307ms/step - loss: 0.5074 - acc: 0.8055 - val_loss: 1.0407 - val_acc: 0.6950\n",
      "Epoch 98/100\n",
      "64/64 [==============================] - 22s 350ms/step - loss: 0.4626 - acc: 0.8212 - val_loss: 1.2335 - val_acc: 0.6425\n",
      "Epoch 99/100\n",
      "64/64 [==============================] - 20s 312ms/step - loss: 0.5904 - acc: 0.7741 - val_loss: 0.9481 - val_acc: 0.7252\n",
      "Epoch 100/100\n",
      "64/64 [==============================] - 20s 307ms/step - loss: 0.5803 - acc: 0.7867 - val_loss: 1.1206 - val_acc: 0.6853\n"
     ]
    },
    {
     "data": {
      "text/plain": [
       "<keras.callbacks.History at 0x23d8da4aa90>"
      ]
     },
     "execution_count": 6,
     "metadata": {},
     "output_type": "execute_result"
    }
   ],
   "source": [
    "skncancer_model.fit_generator(train_generator,\n",
    "                        steps_per_epoch=64,\n",
    "                        epochs=100,\n",
    "                        validation_data=validation_generator,\n",
    "                        validation_steps=32)"
   ]
  },
  {
   "cell_type": "code",
   "execution_count": 11,
   "metadata": {},
   "outputs": [
    {
     "name": "stdout",
     "output_type": "stream",
     "text": [
      "Found 144 images belonging to 6 classes.\n"
     ]
    }
   ],
   "source": [
    "from IPython.display import display\n",
    "import matplotlib.pyplot as plt\n",
    "import pandas as pd\n",
    "\n",
    "predict_gen = validation_datagen.flow_from_directory(directory=r'C:\\Users\\7\\Desktop\\Desktop\\dataset\\cancer mnist\\balanced\\test',\n",
    "                                                              target_size=[28,28],\n",
    "                                                              batch_size=144,\n",
    "                                                              class_mode='categorical')\n",
    "\n",
    "X_val_sample, res = next(predict_gen)\n",
    "y_pred = skncancer_model.predict(X_val_sample)\n",
    "\n",
    "CM = []\n",
    "for i in range(6):\n",
    "    CM.append([0, 0, 0, 0, 0, 0])\n"
   ]
  },
  {
   "cell_type": "code",
   "execution_count": 12,
   "metadata": {},
   "outputs": [
    {
     "name": "stdout",
     "output_type": "stream",
     "text": [
      "[15, 1, 3, 5, 0, 0]\n",
      "[8, 12, 1, 2, 0, 1]\n",
      "[6, 0, 14, 3, 1, 0]\n",
      "[3, 0, 3, 18, 0, 0]\n",
      "[2, 0, 1, 5, 16, 0]\n",
      "[0, 0, 0, 0, 0, 24]\n",
      "5/5 [==============================] - 1s 214ms/step\n"
     ]
    },
    {
     "data": {
      "text/plain": [
       "[1.1222016281551785, 0.6875]"
      ]
     },
     "execution_count": 12,
     "metadata": {},
     "output_type": "execute_result"
    }
   ],
   "source": [
    "for x, y in zip(res, y_pred):\n",
    "    CM[np.argmax(x)][np.argmax(y)] = CM[np.argmax(x)][np.argmax(y)] + 1\n",
    "    #s = pd.Series({'Afr': y[0], 'Asi': y[1], 'Brc':y[2], 'Ind':y[3], 'Lat':y[4]})\n",
    "    #axes = s.plot(kind='bar')\n",
    "    #axes.set_xlabel('Class')\n",
    "    #axes.set_ylabel('Probability')\n",
    "    #axes.set_ylim([0, 1])\n",
    "    #plt.show()\n",
    "for line in CM:\n",
    "    print(line)\n",
    "    #img = array_to_img(x)\n",
    "    #print(res[index])\n",
    "    #display(img)\n",
    "\n",
    "skncancer_model.evaluate_generator(validation_generator, steps=None, max_queue_size=10, workers=1, use_multiprocessing=False, verbose=1)"
   ]
  },
  {
   "cell_type": "code",
   "execution_count": 11,
   "metadata": {},
   "outputs": [],
   "source": [
    "skncancer_model.save(r'C:\\Users\\7\\Desktop\\Desktop\\dataset\\cancer mnist\\models\\bal-raw-100epc-6482.h5')"
   ]
  },
  {
   "cell_type": "code",
   "execution_count": 13,
   "metadata": {},
   "outputs": [],
   "source": [
    "onedtrue = []\n",
    "onedpred = []\n",
    "for true, pred in zip(res, y_pred):\n",
    "    onedtrue.append(np.argmax(true))\n",
    "    onedpred.append(np.argmax(pred))"
   ]
  },
  {
   "cell_type": "code",
   "execution_count": 14,
   "metadata": {},
   "outputs": [
    {
     "name": "stdout",
     "output_type": "stream",
     "text": [
      "              precision    recall  f1-score   support\n",
      "\n",
      "       akiec       0.44      0.62      0.52        24\n",
      "         bcc       0.92      0.50      0.65        24\n",
      "         bkl       0.64      0.58      0.61        24\n",
      "         mel       0.55      0.75      0.63        24\n",
      "          nv       0.94      0.67      0.78        24\n",
      "        vasc       0.96      1.00      0.98        24\n",
      "\n",
      "   micro avg       0.69      0.69      0.69       144\n",
      "   macro avg       0.74      0.69      0.69       144\n",
      "weighted avg       0.74      0.69      0.69       144\n",
      "\n"
     ]
    }
   ],
   "source": [
    "from sklearn.metrics import classification_report\n",
    "target_names = ['akiec', 'bcc', 'bkl', 'mel', 'nv', 'vasc']\n",
    "print(classification_report(onedtrue, onedpred, target_names=target_names))"
   ]
  },
  {
   "cell_type": "code",
   "execution_count": 13,
   "metadata": {},
   "outputs": [
    {
     "data": {
      "text/plain": [
       "array([[-207.878, -233.558, -247.36 ,    0.   ,    0.   ,    0.   ,\n",
       "           1.   ]], dtype=float32)"
      ]
     },
     "execution_count": 13,
     "metadata": {},
     "output_type": "execute_result"
    }
   ],
   "source": [
    "from keras.applications.vgg16 import preprocess_input\n",
    "X = np.expand_dims(x, axis=0)\n",
    "X = preprocess_input(X)\n",
    "X"
   ]
  },
  {
   "cell_type": "code",
   "execution_count": 1,
   "metadata": {},
   "outputs": [
    {
     "name": "stderr",
     "output_type": "stream",
     "text": [
      "Using TensorFlow backend.\n"
     ]
    }
   ],
   "source": [
    "from keras.models import load_model\n",
    "model = load_model(r'C:\\Users\\7\\Desktop\\Desktop\\dataset\\cancer mnist\\models\\raw-200epc-6149')"
   ]
  },
  {
   "cell_type": "markdown",
   "metadata": {},
   "source": [
    "# vgg-16"
   ]
  },
  {
   "cell_type": "code",
   "execution_count": 1,
   "metadata": {},
   "outputs": [
    {
     "name": "stderr",
     "output_type": "stream",
     "text": [
      "Using TensorFlow backend.\n"
     ]
    }
   ],
   "source": [
    "import keras\n",
    "from keras.models import Sequential\n",
    "from keras.layers import Convolution2D, MaxPooling2D, Flatten, Dense\n",
    "from keras.preprocessing.image import ImageDataGenerator, array_to_img, img_to_array, load_img\n",
    "from keras.optimizers import SGD, Adam\n",
    "from keras.models import Sequential,Input,Model,load_model\n",
    "from keras.layers import Dense, Dropout, Flatten, GaussianNoise\n",
    "from keras.layers import Conv2D, MaxPooling2D, AveragePooling2D\n",
    "from keras.layers.normalization import BatchNormalization\n",
    "from keras.layers.advanced_activations import LeakyReLU\n",
    "from keras.callbacks import TensorBoard\n",
    "from keras import regularizers"
   ]
  },
  {
   "cell_type": "code",
   "execution_count": 2,
   "metadata": {},
   "outputs": [
    {
     "name": "stderr",
     "output_type": "stream",
     "text": [
      "C:\\Users\\7\\Anaconda3\\envs\\tg-gpu-ptchd\\lib\\site-packages\\ipykernel_launcher.py:12: UserWarning: Update your `Dense` call to the Keras 2 API: `Dense(activation=\"softmax\", name=\"prediction\", units=6)`\n",
      "  if sys.path[0] == '':\n",
      "C:\\Users\\7\\Anaconda3\\envs\\tg-gpu-ptchd\\lib\\site-packages\\ipykernel_launcher.py:13: UserWarning: Update your `Model` call to the Keras 2 API: `Model(inputs=Tensor(\"in..., outputs=Tensor(\"pr...)`\n",
      "  del sys.path[0]\n"
     ]
    }
   ],
   "source": [
    "from keras.applications.vgg16 import VGG16\n",
    "from keras.models import Model\n",
    "from keras.layers import Dense, Dropout\n",
    "\n",
    "vgg16 = VGG16(weights='imagenet')\n",
    "x = vgg16.get_layer('fc1').output\n",
    "x = BatchNormalization(name = 'BatchNormalization_0')(x)\n",
    "x = Dropout(0.3, name = 'dropout0')(x)\n",
    "x = vgg16.get_layer('fc2')(x)\n",
    "x = BatchNormalization(name = 'BatchNormalization_1')(x)\n",
    "x = Dropout(0.3, name = 'dropout1')(x)\n",
    "prediction = Dense(output_dim=6, activation='softmax', name='prediction')(x)\n",
    "model = Model(input=vgg16.input, output=prediction)"
   ]
  },
  {
   "cell_type": "code",
   "execution_count": 3,
   "metadata": {},
   "outputs": [
    {
     "data": {
      "text/html": [
       "<style  type=\"text/css\" >\n",
       "    #T_c1866d9c_f67d_11e8_9bdf_1c1b0dc0dc2erow0_col1 {\n",
       "            background-color:  red;\n",
       "        }    #T_c1866d9c_f67d_11e8_9bdf_1c1b0dc0dc2erow1_col1 {\n",
       "            background-color:  red;\n",
       "        }    #T_c1866d9c_f67d_11e8_9bdf_1c1b0dc0dc2erow2_col1 {\n",
       "            background-color:  red;\n",
       "        }    #T_c1866d9c_f67d_11e8_9bdf_1c1b0dc0dc2erow3_col1 {\n",
       "            background-color:  red;\n",
       "        }    #T_c1866d9c_f67d_11e8_9bdf_1c1b0dc0dc2erow4_col1 {\n",
       "            background-color:  red;\n",
       "        }    #T_c1866d9c_f67d_11e8_9bdf_1c1b0dc0dc2erow5_col1 {\n",
       "            background-color:  red;\n",
       "        }    #T_c1866d9c_f67d_11e8_9bdf_1c1b0dc0dc2erow6_col1 {\n",
       "            background-color:  red;\n",
       "        }    #T_c1866d9c_f67d_11e8_9bdf_1c1b0dc0dc2erow7_col1 {\n",
       "            background-color:  red;\n",
       "        }    #T_c1866d9c_f67d_11e8_9bdf_1c1b0dc0dc2erow8_col1 {\n",
       "            background-color:  red;\n",
       "        }    #T_c1866d9c_f67d_11e8_9bdf_1c1b0dc0dc2erow9_col1 {\n",
       "            background-color:  red;\n",
       "        }    #T_c1866d9c_f67d_11e8_9bdf_1c1b0dc0dc2erow10_col1 {\n",
       "            background-color:  red;\n",
       "        }    #T_c1866d9c_f67d_11e8_9bdf_1c1b0dc0dc2erow11_col1 {\n",
       "            background-color:  red;\n",
       "        }    #T_c1866d9c_f67d_11e8_9bdf_1c1b0dc0dc2erow12_col1 {\n",
       "            background-color:  yellow;\n",
       "        }    #T_c1866d9c_f67d_11e8_9bdf_1c1b0dc0dc2erow13_col1 {\n",
       "            background-color:  yellow;\n",
       "        }    #T_c1866d9c_f67d_11e8_9bdf_1c1b0dc0dc2erow14_col1 {\n",
       "            background-color:  yellow;\n",
       "        }    #T_c1866d9c_f67d_11e8_9bdf_1c1b0dc0dc2erow15_col1 {\n",
       "            background-color:  yellow;\n",
       "        }    #T_c1866d9c_f67d_11e8_9bdf_1c1b0dc0dc2erow16_col1 {\n",
       "            background-color:  yellow;\n",
       "        }    #T_c1866d9c_f67d_11e8_9bdf_1c1b0dc0dc2erow17_col1 {\n",
       "            background-color:  yellow;\n",
       "        }    #T_c1866d9c_f67d_11e8_9bdf_1c1b0dc0dc2erow18_col1 {\n",
       "            background-color:  yellow;\n",
       "        }    #T_c1866d9c_f67d_11e8_9bdf_1c1b0dc0dc2erow19_col1 {\n",
       "            background-color:  yellow;\n",
       "        }    #T_c1866d9c_f67d_11e8_9bdf_1c1b0dc0dc2erow20_col1 {\n",
       "            background-color:  yellow;\n",
       "        }    #T_c1866d9c_f67d_11e8_9bdf_1c1b0dc0dc2erow21_col1 {\n",
       "            background-color:  yellow;\n",
       "        }    #T_c1866d9c_f67d_11e8_9bdf_1c1b0dc0dc2erow22_col1 {\n",
       "            background-color:  yellow;\n",
       "        }    #T_c1866d9c_f67d_11e8_9bdf_1c1b0dc0dc2erow23_col1 {\n",
       "            background-color:  yellow;\n",
       "        }    #T_c1866d9c_f67d_11e8_9bdf_1c1b0dc0dc2erow24_col1 {\n",
       "            background-color:  yellow;\n",
       "        }    #T_c1866d9c_f67d_11e8_9bdf_1c1b0dc0dc2erow25_col1 {\n",
       "            background-color:  yellow;\n",
       "        }    #T_c1866d9c_f67d_11e8_9bdf_1c1b0dc0dc2erow26_col1 {\n",
       "            background-color:  yellow;\n",
       "        }</style>  \n",
       "<table id=\"T_c1866d9c_f67d_11e8_9bdf_1c1b0dc0dc2e\" > \n",
       "<thead>    <tr> \n",
       "        <th class=\"blank level0\" ></th> \n",
       "        <th class=\"col_heading level0 col0\" >layer</th> \n",
       "        <th class=\"col_heading level0 col1\" >trainable</th> \n",
       "    </tr></thead> \n",
       "<tbody>    <tr> \n",
       "        <th id=\"T_c1866d9c_f67d_11e8_9bdf_1c1b0dc0dc2elevel0_row0\" class=\"row_heading level0 row0\" >0</th> \n",
       "        <td id=\"T_c1866d9c_f67d_11e8_9bdf_1c1b0dc0dc2erow0_col0\" class=\"data row0 col0\" >input_1</td> \n",
       "        <td id=\"T_c1866d9c_f67d_11e8_9bdf_1c1b0dc0dc2erow0_col1\" class=\"data row0 col1\" >False</td> \n",
       "    </tr>    <tr> \n",
       "        <th id=\"T_c1866d9c_f67d_11e8_9bdf_1c1b0dc0dc2elevel0_row1\" class=\"row_heading level0 row1\" >1</th> \n",
       "        <td id=\"T_c1866d9c_f67d_11e8_9bdf_1c1b0dc0dc2erow1_col0\" class=\"data row1 col0\" >block1_conv1</td> \n",
       "        <td id=\"T_c1866d9c_f67d_11e8_9bdf_1c1b0dc0dc2erow1_col1\" class=\"data row1 col1\" >False</td> \n",
       "    </tr>    <tr> \n",
       "        <th id=\"T_c1866d9c_f67d_11e8_9bdf_1c1b0dc0dc2elevel0_row2\" class=\"row_heading level0 row2\" >2</th> \n",
       "        <td id=\"T_c1866d9c_f67d_11e8_9bdf_1c1b0dc0dc2erow2_col0\" class=\"data row2 col0\" >block1_conv2</td> \n",
       "        <td id=\"T_c1866d9c_f67d_11e8_9bdf_1c1b0dc0dc2erow2_col1\" class=\"data row2 col1\" >False</td> \n",
       "    </tr>    <tr> \n",
       "        <th id=\"T_c1866d9c_f67d_11e8_9bdf_1c1b0dc0dc2elevel0_row3\" class=\"row_heading level0 row3\" >3</th> \n",
       "        <td id=\"T_c1866d9c_f67d_11e8_9bdf_1c1b0dc0dc2erow3_col0\" class=\"data row3 col0\" >block1_pool</td> \n",
       "        <td id=\"T_c1866d9c_f67d_11e8_9bdf_1c1b0dc0dc2erow3_col1\" class=\"data row3 col1\" >False</td> \n",
       "    </tr>    <tr> \n",
       "        <th id=\"T_c1866d9c_f67d_11e8_9bdf_1c1b0dc0dc2elevel0_row4\" class=\"row_heading level0 row4\" >4</th> \n",
       "        <td id=\"T_c1866d9c_f67d_11e8_9bdf_1c1b0dc0dc2erow4_col0\" class=\"data row4 col0\" >block2_conv1</td> \n",
       "        <td id=\"T_c1866d9c_f67d_11e8_9bdf_1c1b0dc0dc2erow4_col1\" class=\"data row4 col1\" >False</td> \n",
       "    </tr>    <tr> \n",
       "        <th id=\"T_c1866d9c_f67d_11e8_9bdf_1c1b0dc0dc2elevel0_row5\" class=\"row_heading level0 row5\" >5</th> \n",
       "        <td id=\"T_c1866d9c_f67d_11e8_9bdf_1c1b0dc0dc2erow5_col0\" class=\"data row5 col0\" >block2_conv2</td> \n",
       "        <td id=\"T_c1866d9c_f67d_11e8_9bdf_1c1b0dc0dc2erow5_col1\" class=\"data row5 col1\" >False</td> \n",
       "    </tr>    <tr> \n",
       "        <th id=\"T_c1866d9c_f67d_11e8_9bdf_1c1b0dc0dc2elevel0_row6\" class=\"row_heading level0 row6\" >6</th> \n",
       "        <td id=\"T_c1866d9c_f67d_11e8_9bdf_1c1b0dc0dc2erow6_col0\" class=\"data row6 col0\" >block2_pool</td> \n",
       "        <td id=\"T_c1866d9c_f67d_11e8_9bdf_1c1b0dc0dc2erow6_col1\" class=\"data row6 col1\" >False</td> \n",
       "    </tr>    <tr> \n",
       "        <th id=\"T_c1866d9c_f67d_11e8_9bdf_1c1b0dc0dc2elevel0_row7\" class=\"row_heading level0 row7\" >7</th> \n",
       "        <td id=\"T_c1866d9c_f67d_11e8_9bdf_1c1b0dc0dc2erow7_col0\" class=\"data row7 col0\" >block3_conv1</td> \n",
       "        <td id=\"T_c1866d9c_f67d_11e8_9bdf_1c1b0dc0dc2erow7_col1\" class=\"data row7 col1\" >False</td> \n",
       "    </tr>    <tr> \n",
       "        <th id=\"T_c1866d9c_f67d_11e8_9bdf_1c1b0dc0dc2elevel0_row8\" class=\"row_heading level0 row8\" >8</th> \n",
       "        <td id=\"T_c1866d9c_f67d_11e8_9bdf_1c1b0dc0dc2erow8_col0\" class=\"data row8 col0\" >block3_conv2</td> \n",
       "        <td id=\"T_c1866d9c_f67d_11e8_9bdf_1c1b0dc0dc2erow8_col1\" class=\"data row8 col1\" >False</td> \n",
       "    </tr>    <tr> \n",
       "        <th id=\"T_c1866d9c_f67d_11e8_9bdf_1c1b0dc0dc2elevel0_row9\" class=\"row_heading level0 row9\" >9</th> \n",
       "        <td id=\"T_c1866d9c_f67d_11e8_9bdf_1c1b0dc0dc2erow9_col0\" class=\"data row9 col0\" >block3_conv3</td> \n",
       "        <td id=\"T_c1866d9c_f67d_11e8_9bdf_1c1b0dc0dc2erow9_col1\" class=\"data row9 col1\" >False</td> \n",
       "    </tr>    <tr> \n",
       "        <th id=\"T_c1866d9c_f67d_11e8_9bdf_1c1b0dc0dc2elevel0_row10\" class=\"row_heading level0 row10\" >10</th> \n",
       "        <td id=\"T_c1866d9c_f67d_11e8_9bdf_1c1b0dc0dc2erow10_col0\" class=\"data row10 col0\" >block3_pool</td> \n",
       "        <td id=\"T_c1866d9c_f67d_11e8_9bdf_1c1b0dc0dc2erow10_col1\" class=\"data row10 col1\" >False</td> \n",
       "    </tr>    <tr> \n",
       "        <th id=\"T_c1866d9c_f67d_11e8_9bdf_1c1b0dc0dc2elevel0_row11\" class=\"row_heading level0 row11\" >11</th> \n",
       "        <td id=\"T_c1866d9c_f67d_11e8_9bdf_1c1b0dc0dc2erow11_col0\" class=\"data row11 col0\" >block4_conv1</td> \n",
       "        <td id=\"T_c1866d9c_f67d_11e8_9bdf_1c1b0dc0dc2erow11_col1\" class=\"data row11 col1\" >False</td> \n",
       "    </tr>    <tr> \n",
       "        <th id=\"T_c1866d9c_f67d_11e8_9bdf_1c1b0dc0dc2elevel0_row12\" class=\"row_heading level0 row12\" >12</th> \n",
       "        <td id=\"T_c1866d9c_f67d_11e8_9bdf_1c1b0dc0dc2erow12_col0\" class=\"data row12 col0\" >block4_conv2</td> \n",
       "        <td id=\"T_c1866d9c_f67d_11e8_9bdf_1c1b0dc0dc2erow12_col1\" class=\"data row12 col1\" >True</td> \n",
       "    </tr>    <tr> \n",
       "        <th id=\"T_c1866d9c_f67d_11e8_9bdf_1c1b0dc0dc2elevel0_row13\" class=\"row_heading level0 row13\" >13</th> \n",
       "        <td id=\"T_c1866d9c_f67d_11e8_9bdf_1c1b0dc0dc2erow13_col0\" class=\"data row13 col0\" >block4_conv3</td> \n",
       "        <td id=\"T_c1866d9c_f67d_11e8_9bdf_1c1b0dc0dc2erow13_col1\" class=\"data row13 col1\" >True</td> \n",
       "    </tr>    <tr> \n",
       "        <th id=\"T_c1866d9c_f67d_11e8_9bdf_1c1b0dc0dc2elevel0_row14\" class=\"row_heading level0 row14\" >14</th> \n",
       "        <td id=\"T_c1866d9c_f67d_11e8_9bdf_1c1b0dc0dc2erow14_col0\" class=\"data row14 col0\" >block4_pool</td> \n",
       "        <td id=\"T_c1866d9c_f67d_11e8_9bdf_1c1b0dc0dc2erow14_col1\" class=\"data row14 col1\" >True</td> \n",
       "    </tr>    <tr> \n",
       "        <th id=\"T_c1866d9c_f67d_11e8_9bdf_1c1b0dc0dc2elevel0_row15\" class=\"row_heading level0 row15\" >15</th> \n",
       "        <td id=\"T_c1866d9c_f67d_11e8_9bdf_1c1b0dc0dc2erow15_col0\" class=\"data row15 col0\" >block5_conv1</td> \n",
       "        <td id=\"T_c1866d9c_f67d_11e8_9bdf_1c1b0dc0dc2erow15_col1\" class=\"data row15 col1\" >True</td> \n",
       "    </tr>    <tr> \n",
       "        <th id=\"T_c1866d9c_f67d_11e8_9bdf_1c1b0dc0dc2elevel0_row16\" class=\"row_heading level0 row16\" >16</th> \n",
       "        <td id=\"T_c1866d9c_f67d_11e8_9bdf_1c1b0dc0dc2erow16_col0\" class=\"data row16 col0\" >block5_conv2</td> \n",
       "        <td id=\"T_c1866d9c_f67d_11e8_9bdf_1c1b0dc0dc2erow16_col1\" class=\"data row16 col1\" >True</td> \n",
       "    </tr>    <tr> \n",
       "        <th id=\"T_c1866d9c_f67d_11e8_9bdf_1c1b0dc0dc2elevel0_row17\" class=\"row_heading level0 row17\" >17</th> \n",
       "        <td id=\"T_c1866d9c_f67d_11e8_9bdf_1c1b0dc0dc2erow17_col0\" class=\"data row17 col0\" >block5_conv3</td> \n",
       "        <td id=\"T_c1866d9c_f67d_11e8_9bdf_1c1b0dc0dc2erow17_col1\" class=\"data row17 col1\" >True</td> \n",
       "    </tr>    <tr> \n",
       "        <th id=\"T_c1866d9c_f67d_11e8_9bdf_1c1b0dc0dc2elevel0_row18\" class=\"row_heading level0 row18\" >18</th> \n",
       "        <td id=\"T_c1866d9c_f67d_11e8_9bdf_1c1b0dc0dc2erow18_col0\" class=\"data row18 col0\" >block5_pool</td> \n",
       "        <td id=\"T_c1866d9c_f67d_11e8_9bdf_1c1b0dc0dc2erow18_col1\" class=\"data row18 col1\" >True</td> \n",
       "    </tr>    <tr> \n",
       "        <th id=\"T_c1866d9c_f67d_11e8_9bdf_1c1b0dc0dc2elevel0_row19\" class=\"row_heading level0 row19\" >19</th> \n",
       "        <td id=\"T_c1866d9c_f67d_11e8_9bdf_1c1b0dc0dc2erow19_col0\" class=\"data row19 col0\" >flatten</td> \n",
       "        <td id=\"T_c1866d9c_f67d_11e8_9bdf_1c1b0dc0dc2erow19_col1\" class=\"data row19 col1\" >True</td> \n",
       "    </tr>    <tr> \n",
       "        <th id=\"T_c1866d9c_f67d_11e8_9bdf_1c1b0dc0dc2elevel0_row20\" class=\"row_heading level0 row20\" >20</th> \n",
       "        <td id=\"T_c1866d9c_f67d_11e8_9bdf_1c1b0dc0dc2erow20_col0\" class=\"data row20 col0\" >fc1</td> \n",
       "        <td id=\"T_c1866d9c_f67d_11e8_9bdf_1c1b0dc0dc2erow20_col1\" class=\"data row20 col1\" >True</td> \n",
       "    </tr>    <tr> \n",
       "        <th id=\"T_c1866d9c_f67d_11e8_9bdf_1c1b0dc0dc2elevel0_row21\" class=\"row_heading level0 row21\" >21</th> \n",
       "        <td id=\"T_c1866d9c_f67d_11e8_9bdf_1c1b0dc0dc2erow21_col0\" class=\"data row21 col0\" >BatchNormalization_0</td> \n",
       "        <td id=\"T_c1866d9c_f67d_11e8_9bdf_1c1b0dc0dc2erow21_col1\" class=\"data row21 col1\" >True</td> \n",
       "    </tr>    <tr> \n",
       "        <th id=\"T_c1866d9c_f67d_11e8_9bdf_1c1b0dc0dc2elevel0_row22\" class=\"row_heading level0 row22\" >22</th> \n",
       "        <td id=\"T_c1866d9c_f67d_11e8_9bdf_1c1b0dc0dc2erow22_col0\" class=\"data row22 col0\" >dropout0</td> \n",
       "        <td id=\"T_c1866d9c_f67d_11e8_9bdf_1c1b0dc0dc2erow22_col1\" class=\"data row22 col1\" >True</td> \n",
       "    </tr>    <tr> \n",
       "        <th id=\"T_c1866d9c_f67d_11e8_9bdf_1c1b0dc0dc2elevel0_row23\" class=\"row_heading level0 row23\" >23</th> \n",
       "        <td id=\"T_c1866d9c_f67d_11e8_9bdf_1c1b0dc0dc2erow23_col0\" class=\"data row23 col0\" >fc2</td> \n",
       "        <td id=\"T_c1866d9c_f67d_11e8_9bdf_1c1b0dc0dc2erow23_col1\" class=\"data row23 col1\" >True</td> \n",
       "    </tr>    <tr> \n",
       "        <th id=\"T_c1866d9c_f67d_11e8_9bdf_1c1b0dc0dc2elevel0_row24\" class=\"row_heading level0 row24\" >24</th> \n",
       "        <td id=\"T_c1866d9c_f67d_11e8_9bdf_1c1b0dc0dc2erow24_col0\" class=\"data row24 col0\" >BatchNormalization_1</td> \n",
       "        <td id=\"T_c1866d9c_f67d_11e8_9bdf_1c1b0dc0dc2erow24_col1\" class=\"data row24 col1\" >True</td> \n",
       "    </tr>    <tr> \n",
       "        <th id=\"T_c1866d9c_f67d_11e8_9bdf_1c1b0dc0dc2elevel0_row25\" class=\"row_heading level0 row25\" >25</th> \n",
       "        <td id=\"T_c1866d9c_f67d_11e8_9bdf_1c1b0dc0dc2erow25_col0\" class=\"data row25 col0\" >dropout1</td> \n",
       "        <td id=\"T_c1866d9c_f67d_11e8_9bdf_1c1b0dc0dc2erow25_col1\" class=\"data row25 col1\" >True</td> \n",
       "    </tr>    <tr> \n",
       "        <th id=\"T_c1866d9c_f67d_11e8_9bdf_1c1b0dc0dc2elevel0_row26\" class=\"row_heading level0 row26\" >26</th> \n",
       "        <td id=\"T_c1866d9c_f67d_11e8_9bdf_1c1b0dc0dc2erow26_col0\" class=\"data row26 col0\" >prediction</td> \n",
       "        <td id=\"T_c1866d9c_f67d_11e8_9bdf_1c1b0dc0dc2erow26_col1\" class=\"data row26 col1\" >True</td> \n",
       "    </tr></tbody> \n",
       "</table> "
      ],
      "text/plain": [
       "<pandas.io.formats.style.Styler at 0x2227423b9b0>"
      ]
     },
     "execution_count": 3,
     "metadata": {},
     "output_type": "execute_result"
    }
   ],
   "source": [
    "import pandas as pd\n",
    "for layer in model.layers:\n",
    "    if layer.name in ['fc1', 'fc2', 'prediction', 'dropout0', 'dropout1', 'flatten',\n",
    "                      'block5_pool', 'block5_conv3', 'block5_conv2', 'block5_conv1',\n",
    "                      'block4_pool', 'block4_conv3', 'block4_conv2',\n",
    "                      'BatchNormalization_0', 'BatchNormalization_1']:\n",
    "        continue\n",
    "    layer.trainable = False\n",
    "\n",
    "df = pd.DataFrame(([layer.name, layer.trainable] for layer in model.layers), columns=['layer', 'trainable'])\n",
    "df.style.applymap(lambda trainable: f'background-color: {\"yellow\" if trainable else \"red\"}', subset=['trainable'])"
   ]
  },
  {
   "cell_type": "code",
   "execution_count": 4,
   "metadata": {},
   "outputs": [],
   "source": [
    "from keras.optimizers import SGD, Adam\n",
    "\n",
    "sgd = SGD(lr=1e-4, momentum=0.9)\n",
    "model.compile(optimizer=sgd, loss='categorical_crossentropy', metrics=['accuracy'])"
   ]
  },
  {
   "cell_type": "code",
   "execution_count": 5,
   "metadata": {},
   "outputs": [
    {
     "name": "stdout",
     "output_type": "stream",
     "text": [
      "Found 546 images belonging to 6 classes.\n",
      "Found 144 images belonging to 6 classes.\n"
     ]
    }
   ],
   "source": [
    "import numpy as np\n",
    "from keras.preprocessing.image import ImageDataGenerator, array_to_img\n",
    "\n",
    "def preprocess_input_vgg(x):\n",
    "    \"\"\"Wrapper around keras.applications.vgg16.preprocess_input()\n",
    "    to make it compatible for use with keras.preprocessing.image.ImageDataGenerator's\n",
    "    `preprocessing_function` argument.\n",
    "    \n",
    "    Parameters\n",
    "    ----------\n",
    "    x : a numpy 3darray (a single image to be preprocessed)\n",
    "    \n",
    "    Note we cannot pass keras.applications.vgg16.preprocess_input()\n",
    "    directly to to keras.preprocessing.image.ImageDataGenerator's\n",
    "    `preprocessing_function` argument because the former expects a\n",
    "    4D tensor whereas the latter expects a 3D tensor. Hence the\n",
    "    existence of this wrapper.\n",
    "    \n",
    "    Returns a numpy 3darray (the preprocessed image).\n",
    "    \n",
    "    \"\"\"\n",
    "    from keras.applications.vgg16 import preprocess_input\n",
    "    X = np.expand_dims(x, axis=0)\n",
    "    X = preprocess_input(X)\n",
    "    return X[0]\n",
    "\n",
    "train_datagen = ImageDataGenerator(preprocessing_function=preprocess_input_vgg,\n",
    "                                   rotation_range=40,\n",
    "                                   width_shift_range=0.2,\n",
    "                                   height_shift_range=0.2,\n",
    "                                   shear_range=0.2,\n",
    "                                   zoom_range=0.2,\n",
    "                                   horizontal_flip=True,\n",
    "                                   fill_mode='nearest')\n",
    "train_generator = train_datagen.flow_from_directory(directory=r'C:\\Users\\7\\Desktop\\Desktop\\dataset\\cancer mnist\\balanced\\train',\n",
    "                                                    target_size=[224,224],\n",
    "                                                    batch_size=32,\n",
    "                                                    class_mode='categorical')\n",
    "\n",
    "validation_datagen = ImageDataGenerator(preprocessing_function=preprocess_input_vgg)\n",
    "validation_generator = validation_datagen.flow_from_directory(directory=r'C:\\Users\\7\\Desktop\\Desktop\\dataset\\cancer mnist\\balanced\\test',\n",
    "                                                              target_size=[224,224],\n",
    "                                                              batch_size=32,\n",
    "                                                              class_mode='categorical')"
   ]
  },
  {
   "cell_type": "code",
   "execution_count": 6,
   "metadata": {
    "scrolled": true
   },
   "outputs": [
    {
     "name": "stderr",
     "output_type": "stream",
     "text": [
      "C:\\Users\\7\\Anaconda3\\envs\\tg-gpu-ptchd\\lib\\site-packages\\ipykernel_launcher.py:5: UserWarning: The semantics of the Keras 2 argument `steps_per_epoch` is not the same as the Keras 1 argument `samples_per_epoch`. `steps_per_epoch` is the number of batches to draw from the generator at each epoch. Basically steps_per_epoch = samples_per_epoch/batch_size. Similarly `nb_val_samples`->`validation_steps` and `val_samples`->`steps` arguments have changed. Update your method calls accordingly.\n",
      "  \"\"\"\n",
      "C:\\Users\\7\\Anaconda3\\envs\\tg-gpu-ptchd\\lib\\site-packages\\ipykernel_launcher.py:5: UserWarning: Update your `fit_generator` call to the Keras 2 API: `fit_generator(<keras_pre..., steps_per_epoch=64, validation_data=<keras_pre..., validation_steps=32, epochs=30)`\n",
      "  \"\"\"\n"
     ]
    },
    {
     "name": "stdout",
     "output_type": "stream",
     "text": [
      "Epoch 1/30\n",
      "64/64 [==============================] - 50s 784ms/step - loss: 1.9727 - acc: 0.3097 - val_loss: 4.6298 - val_acc: 0.1713\n",
      "Epoch 2/30\n",
      "64/64 [==============================] - 45s 696ms/step - loss: 1.8763 - acc: 0.3318 - val_loss: 6.7498 - val_acc: 0.1703\n",
      "Epoch 3/30\n",
      "64/64 [==============================] - 41s 645ms/step - loss: 1.9079 - acc: 0.3063 - val_loss: 6.2986 - val_acc: 0.1798\n",
      "Epoch 4/30\n",
      "64/64 [==============================] - 46s 716ms/step - loss: 1.9054 - acc: 0.3318 - val_loss: 4.1670 - val_acc: 0.1950\n",
      "Epoch 5/30\n",
      "64/64 [==============================] - 41s 648ms/step - loss: 1.9194 - acc: 0.3046 - val_loss: 2.7374 - val_acc: 0.2511\n",
      "Epoch 6/30\n",
      "64/64 [==============================] - 45s 711ms/step - loss: 1.8683 - acc: 0.3019 - val_loss: 2.5469 - val_acc: 0.1498\n",
      "Epoch 7/30\n",
      "64/64 [==============================] - 44s 682ms/step - loss: 1.7965 - acc: 0.3387 - val_loss: 1.9100 - val_acc: 0.2823\n",
      "Epoch 8/30\n",
      "64/64 [==============================] - 47s 736ms/step - loss: 1.8260 - acc: 0.3197 - val_loss: 1.8830 - val_acc: 0.3026\n",
      "Epoch 9/30\n",
      "64/64 [==============================] - 44s 690ms/step - loss: 1.7511 - acc: 0.3325 - val_loss: 1.7154 - val_acc: 0.3254\n",
      "Epoch 10/30\n",
      "64/64 [==============================] - 41s 646ms/step - loss: 1.7638 - acc: 0.3297 - val_loss: 1.5070 - val_acc: 0.3509\n",
      "Epoch 11/30\n",
      "64/64 [==============================] - 45s 696ms/step - loss: 1.7598 - acc: 0.3282 - val_loss: 1.5398 - val_acc: 0.3567\n",
      "Epoch 12/30\n",
      "64/64 [==============================] - 41s 642ms/step - loss: 1.8163 - acc: 0.3413 - val_loss: 2.7548 - val_acc: 0.1627\n",
      "Epoch 13/30\n",
      "64/64 [==============================] - 46s 715ms/step - loss: 1.8892 - acc: 0.3014 - val_loss: 2.2678 - val_acc: 0.1667\n",
      "Epoch 14/30\n",
      "64/64 [==============================] - 42s 649ms/step - loss: 1.8180 - acc: 0.3117 - val_loss: 1.6121 - val_acc: 0.3384\n",
      "Epoch 15/30\n",
      "64/64 [==============================] - 48s 750ms/step - loss: 1.7511 - acc: 0.3311 - val_loss: 1.6318 - val_acc: 0.3322\n",
      "Epoch 16/30\n",
      "64/64 [==============================] - 42s 660ms/step - loss: 1.8000 - acc: 0.3262 - val_loss: 1.5277 - val_acc: 0.3567\n",
      "Epoch 17/30\n",
      "64/64 [==============================] - 47s 738ms/step - loss: 1.8317 - acc: 0.3353 - val_loss: 1.5700 - val_acc: 0.3728\n",
      "Epoch 18/30\n",
      "64/64 [==============================] - 44s 688ms/step - loss: 1.8892 - acc: 0.2931 - val_loss: 1.6590 - val_acc: 0.3882\n",
      "Epoch 19/30\n",
      "64/64 [==============================] - 42s 663ms/step - loss: 1.8113 - acc: 0.3278 - val_loss: 1.4948 - val_acc: 0.4052\n",
      "Epoch 20/30\n",
      "64/64 [==============================] - 45s 696ms/step - loss: 1.7325 - acc: 0.3481 - val_loss: 1.5524 - val_acc: 0.3936\n",
      "Epoch 21/30\n",
      "64/64 [==============================] - 41s 635ms/step - loss: 1.8592 - acc: 0.3214 - val_loss: 1.4730 - val_acc: 0.4073\n",
      "Epoch 22/30\n",
      "64/64 [==============================] - 44s 692ms/step - loss: 1.7379 - acc: 0.3304 - val_loss: 1.4732 - val_acc: 0.4127\n",
      "Epoch 23/30\n",
      "64/64 [==============================] - 43s 669ms/step - loss: 1.8171 - acc: 0.3248 - val_loss: 1.6475 - val_acc: 0.3640\n",
      "Epoch 24/30\n",
      "64/64 [==============================] - 46s 718ms/step - loss: 1.7178 - acc: 0.3437 - val_loss: 1.5393 - val_acc: 0.4580\n",
      "Epoch 25/30\n",
      "64/64 [==============================] - 45s 698ms/step - loss: 1.8479 - acc: 0.3118 - val_loss: 1.8453 - val_acc: 0.2961\n",
      "Epoch 26/30\n",
      "64/64 [==============================] - 47s 736ms/step - loss: 1.7412 - acc: 0.3583 - val_loss: 1.7277 - val_acc: 0.3254\n",
      "Epoch 27/30\n",
      "64/64 [==============================] - 45s 700ms/step - loss: 1.7636 - acc: 0.3282 - val_loss: 1.6098 - val_acc: 0.3319\n",
      "Epoch 28/30\n",
      "64/64 [==============================] - 43s 678ms/step - loss: 1.7690 - acc: 0.3492 - val_loss: 1.5583 - val_acc: 0.3465\n",
      "Epoch 29/30\n",
      "64/64 [==============================] - 46s 718ms/step - loss: 1.7448 - acc: 0.3521 - val_loss: 1.5317 - val_acc: 0.3998\n",
      "Epoch 30/30\n",
      "64/64 [==============================] - 41s 648ms/step - loss: 1.6875 - acc: 0.3570 - val_loss: 1.4634 - val_acc: 0.4145\n"
     ]
    }
   ],
   "source": [
    "history = model.fit_generator(train_generator,\n",
    "                    steps_per_epoch=64,\n",
    "                    nb_epoch=30,\n",
    "                    validation_data=validation_generator,\n",
    "                    validation_steps=32)"
   ]
  },
  {
   "cell_type": "code",
   "execution_count": 7,
   "metadata": {},
   "outputs": [
    {
     "name": "stdout",
     "output_type": "stream",
     "text": [
      "Found 144 images belonging to 6 classes.\n"
     ]
    }
   ],
   "source": [
    "from IPython.display import display\n",
    "import matplotlib.pyplot as plt\n",
    "import pandas as pd\n",
    "\n",
    "predict_gen = validation_datagen.flow_from_directory(directory=r'C:\\Users\\7\\Desktop\\Desktop\\dataset\\cancer mnist\\balanced\\test',\n",
    "                                                              target_size=[224, 224],\n",
    "                                                              batch_size=144,\n",
    "                                                              class_mode='categorical')\n",
    "\n",
    "X_val_sample, res = next(predict_gen)\n",
    "y_pred = model.predict(X_val_sample)\n",
    "\n",
    "CM = []\n",
    "for i in range(6):\n",
    "    CM.append([0, 0, 0, 0, 0, 0])\n"
   ]
  },
  {
   "cell_type": "code",
   "execution_count": 8,
   "metadata": {},
   "outputs": [
    {
     "name": "stdout",
     "output_type": "stream",
     "text": [
      "[16, 8, 0, 0, 0, 0]\n",
      "[8, 14, 0, 1, 0, 1]\n",
      "[12, 2, 6, 2, 1, 1]\n",
      "[13, 6, 3, 0, 1, 1]\n",
      "[6, 1, 2, 0, 14, 1]\n",
      "[3, 3, 1, 0, 7, 10]\n",
      "5/5 [==============================] - 1s 251ms/step\n"
     ]
    },
    {
     "data": {
      "text/plain": [
       "[1.4585097365909152, 0.4166666666666667]"
      ]
     },
     "execution_count": 8,
     "metadata": {},
     "output_type": "execute_result"
    }
   ],
   "source": [
    "for x, y in zip(res, y_pred):\n",
    "    CM[np.argmax(x)][np.argmax(y)] = CM[np.argmax(x)][np.argmax(y)] + 1\n",
    "    #s = pd.Series({'Afr': y[0], 'Asi': y[1], 'Brc':y[2], 'Ind':y[3], 'Lat':y[4]})\n",
    "    #axes = s.plot(kind='bar')\n",
    "    #axes.set_xlabel('Class')\n",
    "    #axes.set_ylabel('Probability')\n",
    "    #axes.set_ylim([0, 1])\n",
    "    #plt.show()\n",
    "for line in CM:\n",
    "    print(line)\n",
    "    #img = array_to_img(x)\n",
    "    #print(res[index])\n",
    "    #display(i\n",
    "model.evaluate_generator(validation_generator, steps=None, max_queue_size=10, workers=1, use_multiprocessing=False, verbose=1)"
   ]
  },
  {
   "cell_type": "code",
   "execution_count": 9,
   "metadata": {},
   "outputs": [],
   "source": [
    "onedtrue = []\n",
    "onedpred = []\n",
    "for true, pred in zip(res, y_pred):\n",
    "    onedtrue.append(np.argmax(true))\n",
    "    onedpred.append(np.argmax(pred))"
   ]
  },
  {
   "cell_type": "code",
   "execution_count": 10,
   "metadata": {},
   "outputs": [
    {
     "name": "stdout",
     "output_type": "stream",
     "text": [
      "              precision    recall  f1-score   support\n",
      "\n",
      "       akiec       0.28      0.67      0.39        24\n",
      "         bcc       0.41      0.58      0.48        24\n",
      "         bkl       0.50      0.25      0.33        24\n",
      "         mel       0.00      0.00      0.00        24\n",
      "          nv       0.61      0.58      0.60        24\n",
      "        vasc       0.71      0.42      0.53        24\n",
      "\n",
      "   micro avg       0.42      0.42      0.42       144\n",
      "   macro avg       0.42      0.42      0.39       144\n",
      "weighted avg       0.42      0.42      0.39       144\n",
      "\n"
     ]
    }
   ],
   "source": [
    "from sklearn.metrics import classification_report\n",
    "target_names = ['akiec', 'bcc', 'bkl', 'mel', 'nv', 'vasc']\n",
    "print(classification_report(onedtrue, onedpred, target_names=target_names))"
   ]
  },
  {
   "cell_type": "code",
   "execution_count": 11,
   "metadata": {},
   "outputs": [],
   "source": [
    "model.save('bal-vgg16-4166-30epc.h5')"
   ]
  },
  {
   "cell_type": "markdown",
   "metadata": {},
   "source": [
    "# inception v3"
   ]
  },
  {
   "cell_type": "code",
   "execution_count": 1,
   "metadata": {},
   "outputs": [
    {
     "name": "stderr",
     "output_type": "stream",
     "text": [
      "Using TensorFlow backend.\n"
     ]
    }
   ],
   "source": [
    "import keras\n",
    "from keras.models import Sequential\n",
    "from keras.layers import Convolution2D, MaxPooling2D, Flatten, Dense\n",
    "from keras.preprocessing.image import ImageDataGenerator, array_to_img, img_to_array, load_img\n",
    "from keras.optimizers import SGD, Adam\n",
    "from keras.models import Sequential,Input,Model,load_model\n",
    "from keras.layers import Dense, Dropout, Flatten, GaussianNoise\n",
    "from keras.layers import Conv2D, MaxPooling2D, AveragePooling2D\n",
    "from keras.layers.normalization import BatchNormalization\n",
    "from keras.layers.advanced_activations import LeakyReLU\n",
    "from keras.callbacks import TensorBoard\n",
    "from keras import regularizers"
   ]
  },
  {
   "cell_type": "code",
   "execution_count": 1,
   "metadata": {},
   "outputs": [
    {
     "name": "stderr",
     "output_type": "stream",
     "text": [
      "Using TensorFlow backend.\n"
     ]
    }
   ],
   "source": [
    "from keras.applications.inception_v3 import InceptionV3\n",
    "inception_model = InceptionV3(weights='imagenet', include_top=False)"
   ]
  },
  {
   "cell_type": "code",
   "execution_count": 2,
   "metadata": {},
   "outputs": [
    {
     "name": "stdout",
     "output_type": "stream",
     "text": [
      "0 input_1\n",
      "1 conv2d_1\n",
      "2 batch_normalization_1\n",
      "3 activation_1\n",
      "4 conv2d_2\n",
      "5 batch_normalization_2\n",
      "6 activation_2\n",
      "7 conv2d_3\n",
      "8 batch_normalization_3\n",
      "9 activation_3\n",
      "10 max_pooling2d_1\n",
      "11 conv2d_4\n",
      "12 batch_normalization_4\n",
      "13 activation_4\n",
      "14 conv2d_5\n",
      "15 batch_normalization_5\n",
      "16 activation_5\n",
      "17 max_pooling2d_2\n",
      "18 conv2d_9\n",
      "19 batch_normalization_9\n",
      "20 activation_9\n",
      "21 conv2d_7\n",
      "22 conv2d_10\n",
      "23 batch_normalization_7\n",
      "24 batch_normalization_10\n",
      "25 activation_7\n",
      "26 activation_10\n",
      "27 average_pooling2d_1\n",
      "28 conv2d_6\n",
      "29 conv2d_8\n",
      "30 conv2d_11\n",
      "31 conv2d_12\n",
      "32 batch_normalization_6\n",
      "33 batch_normalization_8\n",
      "34 batch_normalization_11\n",
      "35 batch_normalization_12\n",
      "36 activation_6\n",
      "37 activation_8\n",
      "38 activation_11\n",
      "39 activation_12\n",
      "40 mixed0\n",
      "41 conv2d_16\n",
      "42 batch_normalization_16\n",
      "43 activation_16\n",
      "44 conv2d_14\n",
      "45 conv2d_17\n",
      "46 batch_normalization_14\n",
      "47 batch_normalization_17\n",
      "48 activation_14\n",
      "49 activation_17\n",
      "50 average_pooling2d_2\n",
      "51 conv2d_13\n",
      "52 conv2d_15\n",
      "53 conv2d_18\n",
      "54 conv2d_19\n",
      "55 batch_normalization_13\n",
      "56 batch_normalization_15\n",
      "57 batch_normalization_18\n",
      "58 batch_normalization_19\n",
      "59 activation_13\n",
      "60 activation_15\n",
      "61 activation_18\n",
      "62 activation_19\n",
      "63 mixed1\n",
      "64 conv2d_23\n",
      "65 batch_normalization_23\n",
      "66 activation_23\n",
      "67 conv2d_21\n",
      "68 conv2d_24\n",
      "69 batch_normalization_21\n",
      "70 batch_normalization_24\n",
      "71 activation_21\n",
      "72 activation_24\n",
      "73 average_pooling2d_3\n",
      "74 conv2d_20\n",
      "75 conv2d_22\n",
      "76 conv2d_25\n",
      "77 conv2d_26\n",
      "78 batch_normalization_20\n",
      "79 batch_normalization_22\n",
      "80 batch_normalization_25\n",
      "81 batch_normalization_26\n",
      "82 activation_20\n",
      "83 activation_22\n",
      "84 activation_25\n",
      "85 activation_26\n",
      "86 mixed2\n",
      "87 conv2d_28\n",
      "88 batch_normalization_28\n",
      "89 activation_28\n",
      "90 conv2d_29\n",
      "91 batch_normalization_29\n",
      "92 activation_29\n",
      "93 conv2d_27\n",
      "94 conv2d_30\n",
      "95 batch_normalization_27\n",
      "96 batch_normalization_30\n",
      "97 activation_27\n",
      "98 activation_30\n",
      "99 max_pooling2d_3\n",
      "100 mixed3\n",
      "101 conv2d_35\n",
      "102 batch_normalization_35\n",
      "103 activation_35\n",
      "104 conv2d_36\n",
      "105 batch_normalization_36\n",
      "106 activation_36\n",
      "107 conv2d_32\n",
      "108 conv2d_37\n",
      "109 batch_normalization_32\n",
      "110 batch_normalization_37\n",
      "111 activation_32\n",
      "112 activation_37\n",
      "113 conv2d_33\n",
      "114 conv2d_38\n",
      "115 batch_normalization_33\n",
      "116 batch_normalization_38\n",
      "117 activation_33\n",
      "118 activation_38\n",
      "119 average_pooling2d_4\n",
      "120 conv2d_31\n",
      "121 conv2d_34\n",
      "122 conv2d_39\n",
      "123 conv2d_40\n",
      "124 batch_normalization_31\n",
      "125 batch_normalization_34\n",
      "126 batch_normalization_39\n",
      "127 batch_normalization_40\n",
      "128 activation_31\n",
      "129 activation_34\n",
      "130 activation_39\n",
      "131 activation_40\n",
      "132 mixed4\n",
      "133 conv2d_45\n",
      "134 batch_normalization_45\n",
      "135 activation_45\n",
      "136 conv2d_46\n",
      "137 batch_normalization_46\n",
      "138 activation_46\n",
      "139 conv2d_42\n",
      "140 conv2d_47\n",
      "141 batch_normalization_42\n",
      "142 batch_normalization_47\n",
      "143 activation_42\n",
      "144 activation_47\n",
      "145 conv2d_43\n",
      "146 conv2d_48\n",
      "147 batch_normalization_43\n",
      "148 batch_normalization_48\n",
      "149 activation_43\n",
      "150 activation_48\n",
      "151 average_pooling2d_5\n",
      "152 conv2d_41\n",
      "153 conv2d_44\n",
      "154 conv2d_49\n",
      "155 conv2d_50\n",
      "156 batch_normalization_41\n",
      "157 batch_normalization_44\n",
      "158 batch_normalization_49\n",
      "159 batch_normalization_50\n",
      "160 activation_41\n",
      "161 activation_44\n",
      "162 activation_49\n",
      "163 activation_50\n",
      "164 mixed5\n",
      "165 conv2d_55\n",
      "166 batch_normalization_55\n",
      "167 activation_55\n",
      "168 conv2d_56\n",
      "169 batch_normalization_56\n",
      "170 activation_56\n",
      "171 conv2d_52\n",
      "172 conv2d_57\n",
      "173 batch_normalization_52\n",
      "174 batch_normalization_57\n",
      "175 activation_52\n",
      "176 activation_57\n",
      "177 conv2d_53\n",
      "178 conv2d_58\n",
      "179 batch_normalization_53\n",
      "180 batch_normalization_58\n",
      "181 activation_53\n",
      "182 activation_58\n",
      "183 average_pooling2d_6\n",
      "184 conv2d_51\n",
      "185 conv2d_54\n",
      "186 conv2d_59\n",
      "187 conv2d_60\n",
      "188 batch_normalization_51\n",
      "189 batch_normalization_54\n",
      "190 batch_normalization_59\n",
      "191 batch_normalization_60\n",
      "192 activation_51\n",
      "193 activation_54\n",
      "194 activation_59\n",
      "195 activation_60\n",
      "196 mixed6\n",
      "197 conv2d_65\n",
      "198 batch_normalization_65\n",
      "199 activation_65\n",
      "200 conv2d_66\n",
      "201 batch_normalization_66\n",
      "202 activation_66\n",
      "203 conv2d_62\n",
      "204 conv2d_67\n",
      "205 batch_normalization_62\n",
      "206 batch_normalization_67\n",
      "207 activation_62\n",
      "208 activation_67\n",
      "209 conv2d_63\n",
      "210 conv2d_68\n",
      "211 batch_normalization_63\n",
      "212 batch_normalization_68\n",
      "213 activation_63\n",
      "214 activation_68\n",
      "215 average_pooling2d_7\n",
      "216 conv2d_61\n",
      "217 conv2d_64\n",
      "218 conv2d_69\n",
      "219 conv2d_70\n",
      "220 batch_normalization_61\n",
      "221 batch_normalization_64\n",
      "222 batch_normalization_69\n",
      "223 batch_normalization_70\n",
      "224 activation_61\n",
      "225 activation_64\n",
      "226 activation_69\n",
      "227 activation_70\n",
      "228 mixed7\n",
      "229 conv2d_73\n",
      "230 batch_normalization_73\n",
      "231 activation_73\n",
      "232 conv2d_74\n",
      "233 batch_normalization_74\n",
      "234 activation_74\n",
      "235 conv2d_71\n",
      "236 conv2d_75\n",
      "237 batch_normalization_71\n",
      "238 batch_normalization_75\n",
      "239 activation_71\n",
      "240 activation_75\n",
      "241 conv2d_72\n",
      "242 conv2d_76\n",
      "243 batch_normalization_72\n",
      "244 batch_normalization_76\n",
      "245 activation_72\n",
      "246 activation_76\n",
      "247 max_pooling2d_4\n",
      "248 mixed8\n",
      "249 conv2d_81\n",
      "250 batch_normalization_81\n",
      "251 activation_81\n",
      "252 conv2d_78\n",
      "253 conv2d_82\n",
      "254 batch_normalization_78\n",
      "255 batch_normalization_82\n",
      "256 activation_78\n",
      "257 activation_82\n",
      "258 conv2d_79\n",
      "259 conv2d_80\n",
      "260 conv2d_83\n",
      "261 conv2d_84\n",
      "262 average_pooling2d_8\n",
      "263 conv2d_77\n",
      "264 batch_normalization_79\n",
      "265 batch_normalization_80\n",
      "266 batch_normalization_83\n",
      "267 batch_normalization_84\n",
      "268 conv2d_85\n",
      "269 batch_normalization_77\n",
      "270 activation_79\n",
      "271 activation_80\n",
      "272 activation_83\n",
      "273 activation_84\n",
      "274 batch_normalization_85\n",
      "275 activation_77\n",
      "276 mixed9_0\n",
      "277 concatenate_1\n",
      "278 activation_85\n",
      "279 mixed9\n",
      "280 conv2d_90\n",
      "281 batch_normalization_90\n",
      "282 activation_90\n",
      "283 conv2d_87\n",
      "284 conv2d_91\n",
      "285 batch_normalization_87\n",
      "286 batch_normalization_91\n",
      "287 activation_87\n",
      "288 activation_91\n",
      "289 conv2d_88\n",
      "290 conv2d_89\n",
      "291 conv2d_92\n",
      "292 conv2d_93\n",
      "293 average_pooling2d_9\n",
      "294 conv2d_86\n",
      "295 batch_normalization_88\n",
      "296 batch_normalization_89\n",
      "297 batch_normalization_92\n",
      "298 batch_normalization_93\n",
      "299 conv2d_94\n",
      "300 batch_normalization_86\n",
      "301 activation_88\n",
      "302 activation_89\n",
      "303 activation_92\n",
      "304 activation_93\n",
      "305 batch_normalization_94\n",
      "306 activation_86\n",
      "307 mixed9_1\n",
      "308 concatenate_2\n",
      "309 activation_94\n",
      "310 mixed10\n"
     ]
    }
   ],
   "source": [
    "for i,layer in enumerate(inception_model.layers):\n",
    "    print(i,layer.name)"
   ]
  },
  {
   "cell_type": "code",
   "execution_count": 2,
   "metadata": {},
   "outputs": [
    {
     "name": "stdout",
     "output_type": "stream",
     "text": [
      "Found 2324 images belonging to 6 classes.\n",
      "Found 506 images belonging to 6 classes.\n"
     ]
    }
   ],
   "source": [
    "import numpy as np\n",
    "from keras.preprocessing.image import ImageDataGenerator, array_to_img\n",
    "\n",
    "def preprocess_input_vgg(x):\n",
    "    \"\"\"Wrapper around keras.applications.vgg16.preprocess_input()\n",
    "    to make it compatible for use with keras.preprocessing.image.ImageDataGenerator's\n",
    "    `preprocessing_function` argument.\n",
    "    \n",
    "    Parameters\n",
    "    ----------\n",
    "    x : a numpy 3darray (a single image to be preprocessed)\n",
    "    \n",
    "    Note we cannot pass keras.applications.vgg16.preprocess_input()\n",
    "    directly to to keras.preprocessing.image.ImageDataGenerator's\n",
    "    `preprocessing_function` argument because the former expects a\n",
    "    4D tensor whereas the latter expects a 3D tensor. Hence the\n",
    "    existence of this wrapper.\n",
    "    \n",
    "    Returns a numpy 3darray (the preprocessed image).\n",
    "    \n",
    "    \"\"\"\n",
    "    from keras.applications.inception_v3 import preprocess_input\n",
    "    X = np.expand_dims(x, axis=0)\n",
    "    X = preprocess_input(X)\n",
    "    return X[0]\n",
    "\n",
    "train_datagen = ImageDataGenerator(preprocessing_function=preprocess_input_vgg,\n",
    "                                   rotation_range=40,\n",
    "                                   width_shift_range=0.2,\n",
    "                                   height_shift_range=0.2,\n",
    "                                   shear_range=0.2,\n",
    "                                   zoom_range=0.2,\n",
    "                                   horizontal_flip=True,\n",
    "                                   fill_mode='nearest')\n",
    "train_generator = train_datagen.flow_from_directory(directory=r'C:\\Users\\7\\Desktop\\Desktop\\dataset\\cancer mnist\\unbalanced\\train',\n",
    "                                                    target_size=[140, 140],\n",
    "                                                    batch_size=32,\n",
    "                                                    class_mode='categorical')\n",
    "\n",
    "validation_datagen = ImageDataGenerator(preprocessing_function=preprocess_input_vgg)\n",
    "validation_generator = validation_datagen.flow_from_directory(directory=r'C:\\Users\\7\\Desktop\\Desktop\\dataset\\cancer mnist\\unbalanced\\test',\n",
    "                                                              target_size=[140, 140],\n",
    "                                                              batch_size=32,\n",
    "                                                              class_mode='categorical')"
   ]
  },
  {
   "cell_type": "code",
   "execution_count": 3,
   "metadata": {},
   "outputs": [
    {
     "name": "stderr",
     "output_type": "stream",
     "text": [
      "C:\\Users\\7\\Anaconda3\\envs\\tg-gpu-ptchd\\lib\\site-packages\\ipykernel_launcher.py:30: UserWarning: The semantics of the Keras 2 argument `steps_per_epoch` is not the same as the Keras 1 argument `samples_per_epoch`. `steps_per_epoch` is the number of batches to draw from the generator at each epoch. Basically steps_per_epoch = samples_per_epoch/batch_size. Similarly `nb_val_samples`->`validation_steps` and `val_samples`->`steps` arguments have changed. Update your method calls accordingly.\n",
      "C:\\Users\\7\\Anaconda3\\envs\\tg-gpu-ptchd\\lib\\site-packages\\ipykernel_launcher.py:30: UserWarning: Update your `fit_generator` call to the Keras 2 API: `fit_generator(<keras_pre..., steps_per_epoch=64, validation_data=<keras_pre..., validation_steps=32, epochs=1)`\n"
     ]
    },
    {
     "name": "stdout",
     "output_type": "stream",
     "text": [
      "Epoch 1/1\n",
      "64/64 [==============================] - 72s 1s/step - loss: 2.5725 - acc: 0.2785 - val_loss: 1.8843 - val_acc: 0.2589\n"
     ]
    }
   ],
   "source": [
    "from keras.applications.inception_v3 import InceptionV3\n",
    "from keras.layers import GlobalAveragePooling2D, Dense\n",
    "from keras.models import Model\n",
    "inc_model = InceptionV3(weights='imagenet', include_top=False)\n",
    "\n",
    "# get layers and add average pooling layer\n",
    "x = inc_model.output\n",
    "x = GlobalAveragePooling2D()(x)\n",
    "\n",
    "# add fully-connected layer\n",
    "x = Dense(1024, activation='relu')(x)\n",
    "x = Dropout(0.4)(x)\n",
    "x = Dense(1024, activation='relu')(x)\n",
    "x = Dropout(0.4)(x)\n",
    "# add output layer\n",
    "predictions = Dense(6, activation='softmax')(x)\n",
    "\n",
    "model = Model(inputs=inc_model.input, outputs=predictions)\n",
    "\n",
    "# freeze pre-trained model area's layer\n",
    "for layer in inc_model.layers:\n",
    "    layer.trainable = False\n",
    "\n",
    "# update the weight that are added\n",
    "model.compile(optimizer='rmsprop', loss='categorical_crossentropy',metrics=['accuracy'] )\n",
    "model.fit_generator(train_generator,\n",
    "                    steps_per_epoch=64,\n",
    "                    nb_epoch=1,\n",
    "                    validation_data=validation_generator,\n",
    "                    validation_steps=32)\n",
    "\n",
    "# choose the layers which are updated by training\n",
    "#layer_num = len(model.layers)\n",
    "#for layer in model.layers[:248]:\n",
    "#    layer.trainable = False\n",
    "\n",
    "for layer in model.layers:\n",
    "    layer.trainable = True\n",
    "\n",
    "# training\n",
    "model.compile(optimizer=SGD(lr=1e-4, momentum=0.9), loss='categorical_crossentropy', metrics=['accuracy'])"
   ]
  },
  {
   "cell_type": "code",
   "execution_count": 19,
   "metadata": {
    "scrolled": false
   },
   "outputs": [
    {
     "name": "stderr",
     "output_type": "stream",
     "text": [
      "C:\\Users\\7\\Anaconda3\\envs\\tg-gpu-ptchd\\lib\\site-packages\\ipykernel_launcher.py:6: UserWarning: The semantics of the Keras 2 argument `steps_per_epoch` is not the same as the Keras 1 argument `samples_per_epoch`. `steps_per_epoch` is the number of batches to draw from the generator at each epoch. Basically steps_per_epoch = samples_per_epoch/batch_size. Similarly `nb_val_samples`->`validation_steps` and `val_samples`->`steps` arguments have changed. Update your method calls accordingly.\n",
      "  \n",
      "C:\\Users\\7\\Anaconda3\\envs\\tg-gpu-ptchd\\lib\\site-packages\\ipykernel_launcher.py:6: UserWarning: Update your `fit_generator` call to the Keras 2 API: `fit_generator(<keras_pre..., steps_per_epoch=64, shuffle=True, validation_data=<keras_pre..., validation_steps=16, epochs=25)`\n",
      "  \n"
     ]
    },
    {
     "name": "stdout",
     "output_type": "stream",
     "text": [
      "Epoch 1/25\n",
      "64/64 [==============================] - 27s 423ms/step - loss: 0.4788 - acc: 0.8316 - val_loss: 0.8885 - val_acc: 0.7213\n",
      "Epoch 2/25\n",
      "64/64 [==============================] - 26s 403ms/step - loss: 0.4918 - acc: 0.8273 - val_loss: 0.8449 - val_acc: 0.7095\n",
      "Epoch 3/25\n",
      "64/64 [==============================] - 26s 400ms/step - loss: 0.4811 - acc: 0.8270 - val_loss: 0.8331 - val_acc: 0.7194\n",
      "Epoch 4/25\n",
      "64/64 [==============================] - 28s 434ms/step - loss: 0.4375 - acc: 0.8398 - val_loss: 0.8371 - val_acc: 0.7095\n",
      "Epoch 5/25\n",
      "64/64 [==============================] - 27s 416ms/step - loss: 0.4668 - acc: 0.8284 - val_loss: 0.8496 - val_acc: 0.7115\n",
      "Epoch 6/25\n",
      "64/64 [==============================] - 28s 433ms/step - loss: 0.4635 - acc: 0.8389 - val_loss: 0.8548 - val_acc: 0.7095\n",
      "Epoch 7/25\n",
      "64/64 [==============================] - 27s 422ms/step - loss: 0.4519 - acc: 0.8334 - val_loss: 0.8794 - val_acc: 0.7154\n",
      "Epoch 8/25\n",
      "64/64 [==============================] - 28s 439ms/step - loss: 0.4459 - acc: 0.8362 - val_loss: 0.8415 - val_acc: 0.7154\n",
      "Epoch 9/25\n",
      "64/64 [==============================] - 28s 430ms/step - loss: 0.4587 - acc: 0.8309 - val_loss: 0.8781 - val_acc: 0.7154\n",
      "Epoch 10/25\n",
      "64/64 [==============================] - 27s 427ms/step - loss: 0.4327 - acc: 0.8417 - val_loss: 0.9314 - val_acc: 0.7174\n",
      "Epoch 11/25\n",
      "64/64 [==============================] - 29s 447ms/step - loss: 0.4537 - acc: 0.8424 - val_loss: 0.8790 - val_acc: 0.7115\n",
      "Epoch 12/25\n",
      "64/64 [==============================] - 28s 440ms/step - loss: 0.4006 - acc: 0.8549 - val_loss: 0.8912 - val_acc: 0.7213\n",
      "Epoch 13/25\n",
      "64/64 [==============================] - 28s 434ms/step - loss: 0.4087 - acc: 0.8525 - val_loss: 0.8982 - val_acc: 0.7154\n",
      "Epoch 14/25\n",
      "64/64 [==============================] - 27s 428ms/step - loss: 0.4177 - acc: 0.8532 - val_loss: 0.9342 - val_acc: 0.7055\n",
      "Epoch 15/25\n",
      "64/64 [==============================] - 28s 431ms/step - loss: 0.4088 - acc: 0.8607 - val_loss: 0.9530 - val_acc: 0.7115\n",
      "Epoch 16/25\n",
      "64/64 [==============================] - 28s 432ms/step - loss: 0.4343 - acc: 0.8455 - val_loss: 0.8884 - val_acc: 0.7332\n",
      "Epoch 17/25\n",
      "64/64 [==============================] - 27s 426ms/step - loss: 0.4135 - acc: 0.8477 - val_loss: 0.8960 - val_acc: 0.7174\n",
      "Epoch 18/25\n",
      "64/64 [==============================] - 27s 427ms/step - loss: 0.4079 - acc: 0.8565 - val_loss: 0.9380 - val_acc: 0.7055\n",
      "Epoch 19/25\n",
      "64/64 [==============================] - 27s 425ms/step - loss: 0.4022 - acc: 0.8605 - val_loss: 0.9279 - val_acc: 0.7016\n",
      "Epoch 20/25\n",
      "64/64 [==============================] - 27s 423ms/step - loss: 0.3966 - acc: 0.8584 - val_loss: 0.8893 - val_acc: 0.7174\n",
      "Epoch 21/25\n",
      "64/64 [==============================] - 27s 425ms/step - loss: 0.4430 - acc: 0.8461 - val_loss: 0.9213 - val_acc: 0.7134\n",
      "Epoch 22/25\n",
      "64/64 [==============================] - 27s 417ms/step - loss: 0.3939 - acc: 0.8681 - val_loss: 0.9729 - val_acc: 0.7095\n",
      "Epoch 23/25\n",
      "64/64 [==============================] - 28s 431ms/step - loss: 0.3708 - acc: 0.8705 - val_loss: 0.9207 - val_acc: 0.7174\n",
      "Epoch 24/25\n",
      "64/64 [==============================] - 28s 441ms/step - loss: 0.3992 - acc: 0.8584 - val_loss: 0.9370 - val_acc: 0.6858\n",
      "Epoch 25/25\n",
      "64/64 [==============================] - 28s 431ms/step - loss: 0.3869 - acc: 0.8717 - val_loss: 0.9972 - val_acc: 0.6759\n"
     ]
    }
   ],
   "source": [
    "history = model.fit_generator(train_generator,\n",
    "                    steps_per_epoch=64,\n",
    "                    nb_epoch=25,\n",
    "                    shuffle = True,\n",
    "                    validation_data=validation_generator,\n",
    "                    validation_steps=16)"
   ]
  },
  {
   "cell_type": "code",
   "execution_count": 3,
   "metadata": {},
   "outputs": [],
   "source": [
    "model = load_model(r'C:\\Users\\7\\Desktop\\Desktop\\dataset\\cancer mnist\\models\\bal-icpt-100epcs-7083')"
   ]
  },
  {
   "cell_type": "code",
   "execution_count": 4,
   "metadata": {},
   "outputs": [
    {
     "name": "stdout",
     "output_type": "stream",
     "text": [
      "Found 144 images belonging to 6 classes.\n"
     ]
    }
   ],
   "source": [
    "from IPython.display import display\n",
    "import matplotlib.pyplot as plt\n",
    "import pandas as pd\n",
    "\n",
    "predict_gen = validation_datagen.flow_from_directory(directory=r'C:\\Users\\7\\Desktop\\Desktop\\dataset\\cancer mnist\\balanced\\test',\n",
    "                                                              target_size=[140,140],\n",
    "                                                              batch_size=144,\n",
    "                                                              class_mode='categorical')\n",
    "\n",
    "X_val_sample, res = next(predict_gen)\n",
    "y_pred = model.predict(X_val_sample)\n",
    "\n",
    "CM = []\n",
    "for i in range(6):\n",
    "    CM.append([0, 0, 0, 0, 0, 0])\n"
   ]
  },
  {
   "cell_type": "code",
   "execution_count": 5,
   "metadata": {},
   "outputs": [
    {
     "name": "stdout",
     "output_type": "stream",
     "text": [
      "[9, 5, 6, 4, 0, 0]\n",
      "[3, 16, 3, 2, 0, 0]\n",
      "[3, 2, 18, 0, 1, 0]\n",
      "[1, 0, 5, 15, 3, 0]\n",
      "[1, 0, 2, 1, 20, 0]\n",
      "[0, 0, 0, 0, 0, 24]\n",
      "16/16 [==============================] - 14s 850ms/step\n"
     ]
    },
    {
     "data": {
      "text/plain": [
       "[0.8169493687011508, 0.7924901192838495]"
      ]
     },
     "execution_count": 5,
     "metadata": {},
     "output_type": "execute_result"
    }
   ],
   "source": [
    "for x, y in zip(res, y_pred):\n",
    "    CM[np.argmax(x)][np.argmax(y)] = CM[np.argmax(x)][np.argmax(y)] + 1\n",
    "    #s = pd.Series({'Afr': y[0], 'Asi': y[1], 'Brc':y[2], 'Ind':y[3], 'Lat':y[4]})\n",
    "    #axes = s.plot(kind='bar')\n",
    "    #axes.set_xlabel('Class')\n",
    "    #axes.set_ylabel('Probability')\n",
    "    #axes.set_ylim([0, 1])\n",
    "    #plt.show()\n",
    "for line in CM:\n",
    "    print(line)\n",
    "    #img = array_to_img(x)\n",
    "    #print(res[index])\n",
    "    #display(i\n",
    "model.evaluate_generator(validation_generator, steps=None, max_queue_size=10, workers=1, use_multiprocessing=False, verbose=1)"
   ]
  },
  {
   "cell_type": "code",
   "execution_count": 6,
   "metadata": {},
   "outputs": [],
   "source": [
    "onedtrue = []\n",
    "onedpred = []\n",
    "for true, pred in zip(res, y_pred):\n",
    "    onedtrue.append(np.argmax(true))\n",
    "    onedpred.append(np.argmax(pred))"
   ]
  },
  {
   "cell_type": "code",
   "execution_count": 7,
   "metadata": {},
   "outputs": [
    {
     "name": "stdout",
     "output_type": "stream",
     "text": [
      "              precision    recall  f1-score   support\n",
      "\n",
      "       akiec       0.53      0.38      0.44        24\n",
      "         bcc       0.70      0.67      0.68        24\n",
      "         bkl       0.53      0.75      0.62        24\n",
      "         mel       0.68      0.62      0.65        24\n",
      "          nv       0.83      0.83      0.83        24\n",
      "        vasc       1.00      1.00      1.00        24\n",
      "\n",
      "   micro avg       0.71      0.71      0.71       144\n",
      "   macro avg       0.71      0.71      0.70       144\n",
      "weighted avg       0.71      0.71      0.70       144\n",
      "\n"
     ]
    }
   ],
   "source": [
    "from sklearn.metrics import classification_report\n",
    "target_names = ['akiec', 'bcc', 'bkl', 'mel', 'nv', 'vasc']\n",
    "print(classification_report(onedtrue, onedpred, target_names=target_names))"
   ]
  },
  {
   "cell_type": "code",
   "execution_count": 17,
   "metadata": {},
   "outputs": [],
   "source": [
    "model.save(r'C:\\Users\\7\\Desktop\\Desktop\\dataset\\cancer mnist\\models\\unbal-icpt-100epcs-7233')"
   ]
  },
  {
   "cell_type": "code",
   "execution_count": 18,
   "metadata": {},
   "outputs": [
    {
     "name": "stdout",
     "output_type": "stream",
     "text": [
      "dict_keys(['val_loss', 'val_acc', 'loss', 'acc'])\n"
     ]
    },
    {
     "data": {
      "image/png": "[encoded data removed]",
      "text/plain": [
       "<Figure size 432x288 with 1 Axes>"
      ]
     },
     "metadata": {
      "needs_background": "light"
     },
     "output_type": "display_data"
    },
    {
     "data": {
      "image/png": "[encoded data removed]",
      "text/plain": [
       "<Figure size 432x288 with 1 Axes>"
      ]
     },
     "metadata": {
      "needs_background": "light"
     },
     "output_type": "display_data"
    }
   ],
   "source": [
    "print(history.history.keys())\n",
    "# summarize history for accuracy\n",
    "plt.plot(history.history['acc'])\n",
    "plt.plot(history.history['val_acc'])\n",
    "plt.title('model accuracy')\n",
    "plt.ylabel('accuracy')\n",
    "plt.xlabel('epoch')\n",
    "plt.legend(['train', 'test'], loc='upper left')\n",
    "plt.show()\n",
    "# summarize history for loss\n",
    "plt.plot(history.history['loss'])\n",
    "plt.plot(history.history['val_loss'])\n",
    "plt.title('model loss')\n",
    "plt.ylabel('loss')\n",
    "plt.xlabel('epoch')\n",
    "plt.legend(['train', 'test'], loc='upper left')\n",
    "plt.show()"
   ]
  },
  {
   "cell_type": "markdown",
   "metadata": {},
   "source": [
    "# teste"
   ]
  },
  {
   "cell_type": "code",
   "execution_count": 12,
   "metadata": {
    "scrolled": true
   },
   "outputs": [],
   "source": [
    "from keras.models import load_model\n",
    "model = load_model(r'C:\\Users\\7\\Desktop\\Desktop\\dataset\\cancer mnist\\models//bal-icpt-100epcs-7083')"
   ]
  },
  {
   "cell_type": "code",
   "execution_count": 13,
   "metadata": {},
   "outputs": [
    {
     "name": "stdout",
     "output_type": "stream",
     "text": [
      "Found 144 images belonging to 6 classes.\n"
     ]
    }
   ],
   "source": [
    "from IPython.display import display\n",
    "import matplotlib.pyplot as plt\n",
    "import pandas as pd\n",
    "\n",
    "predict_gen = validation_datagen.flow_from_directory(directory=r'C:\\Users\\7\\Desktop\\Desktop\\dataset\\cancer mnist\\balanced\\test',\n",
    "                                                              target_size=[224,224],\n",
    "                                                              batch_size=144,\n",
    "                                                              class_mode='categorical')\n",
    "\n",
    "X_val_sample, res = next(predict_gen)\n",
    "y_pred = model.predict(X_val_sample)\n",
    "\n",
    "CM = []\n",
    "for i in range(6):\n",
    "    CM.append([0, 0, 0, 0, 0, 0])\n"
   ]
  },
  {
   "cell_type": "code",
   "execution_count": 14,
   "metadata": {},
   "outputs": [
    {
     "name": "stdout",
     "output_type": "stream",
     "text": [
      "[0, 0, 8, 1, 0, 15]\n",
      "[0, 0, 6, 2, 0, 16]\n",
      "[0, 0, 7, 2, 0, 15]\n",
      "[0, 0, 13, 1, 0, 10]\n",
      "[0, 0, 11, 2, 0, 11]\n",
      "[0, 0, 3, 1, 0, 20]\n",
      "1/1 [==============================] - 4s 4s/step\n"
     ]
    },
    {
     "data": {
      "text/plain": [
       "[12.577461242675781, 0.1944444477558136]"
      ]
     },
     "execution_count": 14,
     "metadata": {},
     "output_type": "execute_result"
    }
   ],
   "source": [
    "for x, y in zip(res, y_pred):\n",
    "    CM[np.argmax(x)][np.argmax(y)] = CM[np.argmax(x)][np.argmax(y)] + 1\n",
    "    #s = pd.Series({'Afr': y[0], 'Asi': y[1], 'Brc':y[2], 'Ind':y[3], 'Lat':y[4]})\n",
    "    #axes = s.plot(kind='bar')\n",
    "    #axes.set_xlabel('Class')\n",
    "    #axes.set_ylabel('Probability')\n",
    "    #axes.set_ylim([0, 1])\n",
    "    #plt.show()\n",
    "for line in CM:\n",
    "    print(line)\n",
    "    #img = array_to_img(x)\n",
    "    #print(res[index])\n",
    "    #display(i\n",
    "model.evaluate_generator(predict_gen, steps=None, max_queue_size=10, workers=1, use_multiprocessing=False, verbose=1)"
   ]
  },
  {
   "cell_type": "code",
   "execution_count": null,
   "metadata": {},
   "outputs": [],
   "source": [
    "onedtrue = []\n",
    "onedpred = []\n",
    "for true, pred in zip(res, y_pred):\n",
    "    onedtrue.append(np.argmax(true))\n",
    "    onedpred.append(np.argmax(pred))"
   ]
  },
  {
   "cell_type": "code",
   "execution_count": null,
   "metadata": {},
   "outputs": [],
   "source": [
    "from sklearn.metrics import classification_report\n",
    "target_names = ['akiec', 'bcc', 'bkl', 'mel', 'nv', 'vasc']\n",
    "print(classification_report(onedtrue, onedpred, target_names=target_names))"
   ]
  },
  {
   "cell_type": "code",
   "execution_count": null,
   "metadata": {},
   "outputs": [],
   "source": []
  }
 ],
 "metadata": {
  "kernelspec": {
   "display_name": "TensorFlow-GPU-INCPT-PATCHED",
   "language": "python",
   "name": "tf-gpu-ptc"
  },
  "language_info": {
   "codemirror_mode": {
    "name": "ipython",
    "version": 3
   },
   "file_extension": ".py",
   "mimetype": "text/x-python",
   "name": "python",
   "nbconvert_exporter": "python",
   "pygments_lexer": "ipython3",
   "version": "3.6.6"
  }
 },
 "nbformat": 4,
 "nbformat_minor": 2
}
